{
  "cells": [
    {
      "cell_type": "markdown",
      "metadata": {
        "id": "f9f29b3f"
      },
      "source": [
        "Check the version of Python"
      ],
      "id": "f9f29b3f"
    },
    {
      "cell_type": "code",
      "execution_count": null,
      "metadata": {
        "colab": {
          "base_uri": "https://localhost:8080/"
        },
        "id": "D5NlWD_-EO-8",
        "outputId": "3d39dbf2-d836-4b57-f84d-324a0cafc8f3"
      },
      "outputs": [
        {
          "name": "stdout",
          "output_type": "stream",
          "text": [
            "Python 3.7.13\n"
          ]
        }
      ],
      "source": [
        "!python -V"
      ],
      "id": "D5NlWD_-EO-8"
    },
    {
      "cell_type": "markdown",
      "metadata": {
        "id": "edf40a70"
      },
      "source": [
        "## Data Preparation"
      ],
      "id": "edf40a70"
    },
    {
      "cell_type": "markdown",
      "metadata": {
        "id": "f8367524"
      },
      "source": [
        "This step will prepare the data. We will convert the data in .xlm format to a be in dataframe, which is useful for further processing. We can read raw files from local folder if we run the model on our computer."
      ],
      "id": "f8367524"
    },
    {
      "cell_type": "code",
      "execution_count": null,
      "metadata": {
        "id": "276486bd"
      },
      "outputs": [],
      "source": [
        "# Setup the data path. You may need to change this depending on where you keep the files on your local\n",
        "directory = r'C:\\Users\\Asus\\Downloads\\Subtask1_ABSA_Aspect_Term_Extraction\\data'\n",
        "laptop_train = directory+'\\Laptops_Train.xml'\n",
        "restaurant_train = directory+'\\Restaurants_Train.xml'"
      ],
      "id": "276486bd"
    },
    {
      "cell_type": "markdown",
      "metadata": {
        "id": "yOoMXiDgRZve"
      },
      "source": [
        "Or we can run file on Colab."
      ],
      "id": "yOoMXiDgRZve"
    },
    {
      "cell_type": "code",
      "execution_count": null,
      "metadata": {
        "colab": {
          "base_uri": "https://localhost:8080/"
        },
        "id": "bF5jNNpDQ5Co",
        "outputId": "a5151258-7479-4f99-9f4a-0b2369c72c9c"
      },
      "outputs": [
        {
          "output_type": "stream",
          "name": "stdout",
          "text": [
            "Mounted at /content/drive\n",
            "/content/drive/MyDrive/SMU_MITB_NLP\n"
          ]
        }
      ],
      "source": [
        "# codes to mount your google drive folder\n",
        "from google.colab import drive\n",
        "drive.mount('/content/drive')\n",
        "%cd /content/drive/MyDrive/SMU_MITB_NLP/"
      ],
      "id": "bF5jNNpDQ5Co"
    },
    {
      "cell_type": "code",
      "execution_count": null,
      "metadata": {
        "id": "wul6wP-wRHpm"
      },
      "outputs": [],
      "source": [
        "# paths to files in Google drive\n",
        "laptop_train = './Projects/Laptops_Train.xml'\n",
        "restaurant_train = './Projects/Restaurants_Train.xml'"
      ],
      "id": "wul6wP-wRHpm"
    },
    {
      "cell_type": "markdown",
      "metadata": {
        "id": "kC-QNf56SLFZ"
      },
      "source": [
        "The below functions will read data from .xlm files and convert it into dataframe. "
      ],
      "id": "kC-QNf56SLFZ"
    },
    {
      "cell_type": "code",
      "execution_count": null,
      "metadata": {
        "id": "ad73fc0f"
      },
      "outputs": [],
      "source": [
        "#@title Raw data processing\n",
        "# The raw datasets are given in .xml format\n",
        "# This function turns the raw data into data frame .\n",
        "\n",
        "import pandas as pd\n",
        "import xml.etree.ElementTree as ET\n",
        "\n",
        "def data_processor(input_path):\n",
        "    tree = ET.parse(input_path)\n",
        "    root = tree.getroot()\n",
        "    \n",
        "    review_id_list = []\n",
        "    review_list = []\n",
        "    term_list = []\n",
        "    term_polarity_list = []\n",
        "\n",
        "    # Start reading the tree file\n",
        "    for sen in root.findall(\"sentence\"):\n",
        "        \n",
        "        # Find aspect terms\n",
        "        if sen.find(\"aspectTerms\"): \n",
        "            for branch in sen.find(\"aspectTerms\").findall(\"aspectTerm\"):\n",
        "                review_id_list.append(sen.attrib[\"id\"])\n",
        "                review_list.append(sen[0].text)\n",
        "                term_list.append(branch.get(\"term\"))\n",
        "    # convert  to Pandas DF           \n",
        "    df = pd.DataFrame({\"Review ID\": review_id_list, \n",
        "                         \"Review\": review_list,\n",
        "                         \"Aspect Term\": term_list\n",
        "                         })\n",
        "    df.drop_duplicates(inplace = True)\n",
        "    \n",
        "    return df\n"
      ],
      "id": "ad73fc0f"
    },
    {
      "cell_type": "code",
      "execution_count": null,
      "metadata": {
        "id": "116232fc"
      },
      "outputs": [],
      "source": [
        "# This function splits data into train and valid test with a ratio of 80:20\n",
        "def data_split(df,train_size=0.8,random_state=2022):\n",
        "    train_df = df.sample(frac=train_size,random_state=random_state)\n",
        "    valid_df = df.drop(train_df.index)\n",
        "    train_df = train_df.reset_index(drop=True)\n",
        "    valid_df = valid_df.reset_index(drop=True)\n",
        "    return train_df, valid_df"
      ],
      "id": "116232fc"
    },
    {
      "cell_type": "markdown",
      "metadata": {
        "id": "yTWvkZlP0SQe"
      },
      "source": [
        "We'll create 2 datasets, one for train and one for valid. The valid dataset will be used to measure the performance of our models. "
      ],
      "id": "yTWvkZlP0SQe"
    },
    {
      "cell_type": "code",
      "execution_count": null,
      "metadata": {
        "id": "944f95c8"
      },
      "outputs": [],
      "source": [
        "# Process the data\n",
        "df_laptop = data_processor(laptop_train) \n",
        "df_rest = data_processor(restaurant_train)"
      ],
      "id": "944f95c8"
    },
    {
      "cell_type": "code",
      "source": [
        "# Let's see how the our dataframe looklike.\n",
        "df_laptop.head(2)"
      ],
      "metadata": {
        "colab": {
          "base_uri": "https://localhost:8080/",
          "height": 112
        },
        "id": "wZjnL_iGTYM5",
        "outputId": "75739993-0ab1-46d7-fcde-31115938c8dc"
      },
      "id": "wZjnL_iGTYM5",
      "execution_count": null,
      "outputs": [
        {
          "output_type": "execute_result",
          "data": {
            "text/plain": [
              "  Review ID                                             Review   Aspect Term\n",
              "0      2339  I charge it at night and skip taking the cord ...          cord\n",
              "1      2339  I charge it at night and skip taking the cord ...  battery life"
            ],
            "text/html": [
              "\n",
              "  <div id=\"df-979bcd42-2f42-47de-8857-beea0baf4d0f\">\n",
              "    <div class=\"colab-df-container\">\n",
              "      <div>\n",
              "<style scoped>\n",
              "    .dataframe tbody tr th:only-of-type {\n",
              "        vertical-align: middle;\n",
              "    }\n",
              "\n",
              "    .dataframe tbody tr th {\n",
              "        vertical-align: top;\n",
              "    }\n",
              "\n",
              "    .dataframe thead th {\n",
              "        text-align: right;\n",
              "    }\n",
              "</style>\n",
              "<table border=\"1\" class=\"dataframe\">\n",
              "  <thead>\n",
              "    <tr style=\"text-align: right;\">\n",
              "      <th></th>\n",
              "      <th>Review ID</th>\n",
              "      <th>Review</th>\n",
              "      <th>Aspect Term</th>\n",
              "    </tr>\n",
              "  </thead>\n",
              "  <tbody>\n",
              "    <tr>\n",
              "      <th>0</th>\n",
              "      <td>2339</td>\n",
              "      <td>I charge it at night and skip taking the cord ...</td>\n",
              "      <td>cord</td>\n",
              "    </tr>\n",
              "    <tr>\n",
              "      <th>1</th>\n",
              "      <td>2339</td>\n",
              "      <td>I charge it at night and skip taking the cord ...</td>\n",
              "      <td>battery life</td>\n",
              "    </tr>\n",
              "  </tbody>\n",
              "</table>\n",
              "</div>\n",
              "      <button class=\"colab-df-convert\" onclick=\"convertToInteractive('df-979bcd42-2f42-47de-8857-beea0baf4d0f')\"\n",
              "              title=\"Convert this dataframe to an interactive table.\"\n",
              "              style=\"display:none;\">\n",
              "        \n",
              "  <svg xmlns=\"http://www.w3.org/2000/svg\" height=\"24px\"viewBox=\"0 0 24 24\"\n",
              "       width=\"24px\">\n",
              "    <path d=\"M0 0h24v24H0V0z\" fill=\"none\"/>\n",
              "    <path d=\"M18.56 5.44l.94 2.06.94-2.06 2.06-.94-2.06-.94-.94-2.06-.94 2.06-2.06.94zm-11 1L8.5 8.5l.94-2.06 2.06-.94-2.06-.94L8.5 2.5l-.94 2.06-2.06.94zm10 10l.94 2.06.94-2.06 2.06-.94-2.06-.94-.94-2.06-.94 2.06-2.06.94z\"/><path d=\"M17.41 7.96l-1.37-1.37c-.4-.4-.92-.59-1.43-.59-.52 0-1.04.2-1.43.59L10.3 9.45l-7.72 7.72c-.78.78-.78 2.05 0 2.83L4 21.41c.39.39.9.59 1.41.59.51 0 1.02-.2 1.41-.59l7.78-7.78 2.81-2.81c.8-.78.8-2.07 0-2.86zM5.41 20L4 18.59l7.72-7.72 1.47 1.35L5.41 20z\"/>\n",
              "  </svg>\n",
              "      </button>\n",
              "      \n",
              "  <style>\n",
              "    .colab-df-container {\n",
              "      display:flex;\n",
              "      flex-wrap:wrap;\n",
              "      gap: 12px;\n",
              "    }\n",
              "\n",
              "    .colab-df-convert {\n",
              "      background-color: #E8F0FE;\n",
              "      border: none;\n",
              "      border-radius: 50%;\n",
              "      cursor: pointer;\n",
              "      display: none;\n",
              "      fill: #1967D2;\n",
              "      height: 32px;\n",
              "      padding: 0 0 0 0;\n",
              "      width: 32px;\n",
              "    }\n",
              "\n",
              "    .colab-df-convert:hover {\n",
              "      background-color: #E2EBFA;\n",
              "      box-shadow: 0px 1px 2px rgba(60, 64, 67, 0.3), 0px 1px 3px 1px rgba(60, 64, 67, 0.15);\n",
              "      fill: #174EA6;\n",
              "    }\n",
              "\n",
              "    [theme=dark] .colab-df-convert {\n",
              "      background-color: #3B4455;\n",
              "      fill: #D2E3FC;\n",
              "    }\n",
              "\n",
              "    [theme=dark] .colab-df-convert:hover {\n",
              "      background-color: #434B5C;\n",
              "      box-shadow: 0px 1px 3px 1px rgba(0, 0, 0, 0.15);\n",
              "      filter: drop-shadow(0px 1px 2px rgba(0, 0, 0, 0.3));\n",
              "      fill: #FFFFFF;\n",
              "    }\n",
              "  </style>\n",
              "\n",
              "      <script>\n",
              "        const buttonEl =\n",
              "          document.querySelector('#df-979bcd42-2f42-47de-8857-beea0baf4d0f button.colab-df-convert');\n",
              "        buttonEl.style.display =\n",
              "          google.colab.kernel.accessAllowed ? 'block' : 'none';\n",
              "\n",
              "        async function convertToInteractive(key) {\n",
              "          const element = document.querySelector('#df-979bcd42-2f42-47de-8857-beea0baf4d0f');\n",
              "          const dataTable =\n",
              "            await google.colab.kernel.invokeFunction('convertToInteractive',\n",
              "                                                     [key], {});\n",
              "          if (!dataTable) return;\n",
              "\n",
              "          const docLinkHtml = 'Like what you see? Visit the ' +\n",
              "            '<a target=\"_blank\" href=https://colab.research.google.com/notebooks/data_table.ipynb>data table notebook</a>'\n",
              "            + ' to learn more about interactive tables.';\n",
              "          element.innerHTML = '';\n",
              "          dataTable['output_type'] = 'display_data';\n",
              "          await google.colab.output.renderOutput(dataTable, element);\n",
              "          const docLink = document.createElement('div');\n",
              "          docLink.innerHTML = docLinkHtml;\n",
              "          element.appendChild(docLink);\n",
              "        }\n",
              "      </script>\n",
              "    </div>\n",
              "  </div>\n",
              "  "
            ]
          },
          "metadata": {},
          "execution_count": 7
        }
      ]
    },
    {
      "cell_type": "code",
      "source": [
        "# Currently, each aspect term is in different rows even though some aspect terms can be of the same review\n",
        "# We'll get the aspect terms of the same review to be in one row\n",
        "\n",
        "df_laptop_collapsed = df_laptop.copy()\n",
        "df_laptop_collapsed['Aspect Term']= df_laptop_collapsed.groupby(['Review ID', 'Review'])['Aspect Term'].transform(lambda x: ','.join(x))\n",
        "df_laptop_collapsed.drop_duplicates(inplace = True,ignore_index=True)\n",
        " \n",
        "df_rest_collapsed = df_rest.copy()\n",
        "df_rest_collapsed['Aspect Term']= df_rest_collapsed.groupby(['Review ID', 'Review'])['Aspect Term'].transform(lambda x: ','.join(x))\n",
        "df_rest_collapsed.drop_duplicates(inplace = True,ignore_index=True)"
      ],
      "metadata": {
        "id": "TZc6UOZ2TmDp"
      },
      "id": "TZc6UOZ2TmDp",
      "execution_count": null,
      "outputs": []
    },
    {
      "cell_type": "code",
      "source": [
        "# See the result\n",
        "df_laptop_collapsed.head(2)"
      ],
      "metadata": {
        "colab": {
          "base_uri": "https://localhost:8080/",
          "height": 112
        },
        "id": "-urOKin-UBz6",
        "outputId": "e589475c-3ee6-4430-a67c-56878debe9e5"
      },
      "id": "-urOKin-UBz6",
      "execution_count": null,
      "outputs": [
        {
          "output_type": "execute_result",
          "data": {
            "text/plain": [
              "  Review ID                                             Review  \\\n",
              "0      2339  I charge it at night and skip taking the cord ...   \n",
              "1      1316  The tech guy then said the service center does...   \n",
              "\n",
              "                            Aspect Term  \n",
              "0                     cord,battery life  \n",
              "1  service center,\"sales\" team,tech guy  "
            ],
            "text/html": [
              "\n",
              "  <div id=\"df-637c5773-4beb-4871-a3a5-b7966e6b84c7\">\n",
              "    <div class=\"colab-df-container\">\n",
              "      <div>\n",
              "<style scoped>\n",
              "    .dataframe tbody tr th:only-of-type {\n",
              "        vertical-align: middle;\n",
              "    }\n",
              "\n",
              "    .dataframe tbody tr th {\n",
              "        vertical-align: top;\n",
              "    }\n",
              "\n",
              "    .dataframe thead th {\n",
              "        text-align: right;\n",
              "    }\n",
              "</style>\n",
              "<table border=\"1\" class=\"dataframe\">\n",
              "  <thead>\n",
              "    <tr style=\"text-align: right;\">\n",
              "      <th></th>\n",
              "      <th>Review ID</th>\n",
              "      <th>Review</th>\n",
              "      <th>Aspect Term</th>\n",
              "    </tr>\n",
              "  </thead>\n",
              "  <tbody>\n",
              "    <tr>\n",
              "      <th>0</th>\n",
              "      <td>2339</td>\n",
              "      <td>I charge it at night and skip taking the cord ...</td>\n",
              "      <td>cord,battery life</td>\n",
              "    </tr>\n",
              "    <tr>\n",
              "      <th>1</th>\n",
              "      <td>1316</td>\n",
              "      <td>The tech guy then said the service center does...</td>\n",
              "      <td>service center,\"sales\" team,tech guy</td>\n",
              "    </tr>\n",
              "  </tbody>\n",
              "</table>\n",
              "</div>\n",
              "      <button class=\"colab-df-convert\" onclick=\"convertToInteractive('df-637c5773-4beb-4871-a3a5-b7966e6b84c7')\"\n",
              "              title=\"Convert this dataframe to an interactive table.\"\n",
              "              style=\"display:none;\">\n",
              "        \n",
              "  <svg xmlns=\"http://www.w3.org/2000/svg\" height=\"24px\"viewBox=\"0 0 24 24\"\n",
              "       width=\"24px\">\n",
              "    <path d=\"M0 0h24v24H0V0z\" fill=\"none\"/>\n",
              "    <path d=\"M18.56 5.44l.94 2.06.94-2.06 2.06-.94-2.06-.94-.94-2.06-.94 2.06-2.06.94zm-11 1L8.5 8.5l.94-2.06 2.06-.94-2.06-.94L8.5 2.5l-.94 2.06-2.06.94zm10 10l.94 2.06.94-2.06 2.06-.94-2.06-.94-.94-2.06-.94 2.06-2.06.94z\"/><path d=\"M17.41 7.96l-1.37-1.37c-.4-.4-.92-.59-1.43-.59-.52 0-1.04.2-1.43.59L10.3 9.45l-7.72 7.72c-.78.78-.78 2.05 0 2.83L4 21.41c.39.39.9.59 1.41.59.51 0 1.02-.2 1.41-.59l7.78-7.78 2.81-2.81c.8-.78.8-2.07 0-2.86zM5.41 20L4 18.59l7.72-7.72 1.47 1.35L5.41 20z\"/>\n",
              "  </svg>\n",
              "      </button>\n",
              "      \n",
              "  <style>\n",
              "    .colab-df-container {\n",
              "      display:flex;\n",
              "      flex-wrap:wrap;\n",
              "      gap: 12px;\n",
              "    }\n",
              "\n",
              "    .colab-df-convert {\n",
              "      background-color: #E8F0FE;\n",
              "      border: none;\n",
              "      border-radius: 50%;\n",
              "      cursor: pointer;\n",
              "      display: none;\n",
              "      fill: #1967D2;\n",
              "      height: 32px;\n",
              "      padding: 0 0 0 0;\n",
              "      width: 32px;\n",
              "    }\n",
              "\n",
              "    .colab-df-convert:hover {\n",
              "      background-color: #E2EBFA;\n",
              "      box-shadow: 0px 1px 2px rgba(60, 64, 67, 0.3), 0px 1px 3px 1px rgba(60, 64, 67, 0.15);\n",
              "      fill: #174EA6;\n",
              "    }\n",
              "\n",
              "    [theme=dark] .colab-df-convert {\n",
              "      background-color: #3B4455;\n",
              "      fill: #D2E3FC;\n",
              "    }\n",
              "\n",
              "    [theme=dark] .colab-df-convert:hover {\n",
              "      background-color: #434B5C;\n",
              "      box-shadow: 0px 1px 3px 1px rgba(0, 0, 0, 0.15);\n",
              "      filter: drop-shadow(0px 1px 2px rgba(0, 0, 0, 0.3));\n",
              "      fill: #FFFFFF;\n",
              "    }\n",
              "  </style>\n",
              "\n",
              "      <script>\n",
              "        const buttonEl =\n",
              "          document.querySelector('#df-637c5773-4beb-4871-a3a5-b7966e6b84c7 button.colab-df-convert');\n",
              "        buttonEl.style.display =\n",
              "          google.colab.kernel.accessAllowed ? 'block' : 'none';\n",
              "\n",
              "        async function convertToInteractive(key) {\n",
              "          const element = document.querySelector('#df-637c5773-4beb-4871-a3a5-b7966e6b84c7');\n",
              "          const dataTable =\n",
              "            await google.colab.kernel.invokeFunction('convertToInteractive',\n",
              "                                                     [key], {});\n",
              "          if (!dataTable) return;\n",
              "\n",
              "          const docLinkHtml = 'Like what you see? Visit the ' +\n",
              "            '<a target=\"_blank\" href=https://colab.research.google.com/notebooks/data_table.ipynb>data table notebook</a>'\n",
              "            + ' to learn more about interactive tables.';\n",
              "          element.innerHTML = '';\n",
              "          dataTable['output_type'] = 'display_data';\n",
              "          await google.colab.output.renderOutput(dataTable, element);\n",
              "          const docLink = document.createElement('div');\n",
              "          docLink.innerHTML = docLinkHtml;\n",
              "          element.appendChild(docLink);\n",
              "        }\n",
              "      </script>\n",
              "    </div>\n",
              "  </div>\n",
              "  "
            ]
          },
          "metadata": {},
          "execution_count": 9
        }
      ]
    },
    {
      "cell_type": "code",
      "source": [
        "# Create train and validation dataset\n",
        "# Note: We must split on the df_laptop_collapsed and df_rest_collasped, not df_laptop and df_rest\n",
        "train_df_laptop, valid_df_laptop = data_split(df_laptop_collapsed)\n",
        "train_df_rest, valid_df_rest = data_split(df_rest_collapsed)\n",
        "\n",
        "# Concatenating both laptop and restaurant datasets for training at the same time\n",
        "# Before concatenating, create a new ID column to distinguish the same ID from laptop and restaurant\n",
        "train_df_laptop['Review ID'] = train_df_laptop['Review ID'].apply(lambda x: str(x)+'_laptop')\n",
        "train_df_rest['Review ID'] = train_df_rest['Review ID'].apply(lambda x: str(x)+'_restaurant')\n",
        "valid_df_laptop['Review ID'] = valid_df_laptop['Review ID'].apply(lambda x: str(x)+'_laptop')\n",
        "valid_df_rest['Review ID'] = valid_df_rest['Review ID'].apply(lambda x: str(x)+'_restaurant')\n",
        "\n",
        "train_df = pd.concat([train_df_laptop, train_df_rest], ignore_index=True)\n",
        "valid_df = pd.concat([valid_df_laptop, valid_df_rest], ignore_index=True)"
      ],
      "metadata": {
        "id": "q_lh5xTCTVk2"
      },
      "id": "q_lh5xTCTVk2",
      "execution_count": null,
      "outputs": []
    },
    {
      "cell_type": "code",
      "execution_count": null,
      "metadata": {
        "colab": {
          "base_uri": "https://localhost:8080/",
          "height": 206
        },
        "id": "bWgQf4vztkb-",
        "outputId": "aab7757f-f8ad-4cca-cabd-b9de53dd26e2"
      },
      "outputs": [
        {
          "output_type": "execute_result",
          "data": {
            "text/plain": [
              "     Review ID                                             Review  \\\n",
              "0  2909_laptop  Have had many higher priced computers crash an...   \n",
              "1  2494_laptop  The big screen allows you to enjoy watching mo...   \n",
              "2  2578_laptop  Additional caveat: the base installation comes...   \n",
              "3   888_laptop           The mousepad is a huge pain in the arse!   \n",
              "4   577_laptop  It gives me the power and speed that I need to...   \n",
              "\n",
              "                  Aspect Term  \n",
              "0         memory,speed,priced  \n",
              "1                      screen  \n",
              "2  base installation,software  \n",
              "3                    mousepad  \n",
              "4        power,speed,programs  "
            ],
            "text/html": [
              "\n",
              "  <div id=\"df-c4dd2365-efd8-4371-93ae-de06e0a7b974\">\n",
              "    <div class=\"colab-df-container\">\n",
              "      <div>\n",
              "<style scoped>\n",
              "    .dataframe tbody tr th:only-of-type {\n",
              "        vertical-align: middle;\n",
              "    }\n",
              "\n",
              "    .dataframe tbody tr th {\n",
              "        vertical-align: top;\n",
              "    }\n",
              "\n",
              "    .dataframe thead th {\n",
              "        text-align: right;\n",
              "    }\n",
              "</style>\n",
              "<table border=\"1\" class=\"dataframe\">\n",
              "  <thead>\n",
              "    <tr style=\"text-align: right;\">\n",
              "      <th></th>\n",
              "      <th>Review ID</th>\n",
              "      <th>Review</th>\n",
              "      <th>Aspect Term</th>\n",
              "    </tr>\n",
              "  </thead>\n",
              "  <tbody>\n",
              "    <tr>\n",
              "      <th>0</th>\n",
              "      <td>2909_laptop</td>\n",
              "      <td>Have had many higher priced computers crash an...</td>\n",
              "      <td>memory,speed,priced</td>\n",
              "    </tr>\n",
              "    <tr>\n",
              "      <th>1</th>\n",
              "      <td>2494_laptop</td>\n",
              "      <td>The big screen allows you to enjoy watching mo...</td>\n",
              "      <td>screen</td>\n",
              "    </tr>\n",
              "    <tr>\n",
              "      <th>2</th>\n",
              "      <td>2578_laptop</td>\n",
              "      <td>Additional caveat: the base installation comes...</td>\n",
              "      <td>base installation,software</td>\n",
              "    </tr>\n",
              "    <tr>\n",
              "      <th>3</th>\n",
              "      <td>888_laptop</td>\n",
              "      <td>The mousepad is a huge pain in the arse!</td>\n",
              "      <td>mousepad</td>\n",
              "    </tr>\n",
              "    <tr>\n",
              "      <th>4</th>\n",
              "      <td>577_laptop</td>\n",
              "      <td>It gives me the power and speed that I need to...</td>\n",
              "      <td>power,speed,programs</td>\n",
              "    </tr>\n",
              "  </tbody>\n",
              "</table>\n",
              "</div>\n",
              "      <button class=\"colab-df-convert\" onclick=\"convertToInteractive('df-c4dd2365-efd8-4371-93ae-de06e0a7b974')\"\n",
              "              title=\"Convert this dataframe to an interactive table.\"\n",
              "              style=\"display:none;\">\n",
              "        \n",
              "  <svg xmlns=\"http://www.w3.org/2000/svg\" height=\"24px\"viewBox=\"0 0 24 24\"\n",
              "       width=\"24px\">\n",
              "    <path d=\"M0 0h24v24H0V0z\" fill=\"none\"/>\n",
              "    <path d=\"M18.56 5.44l.94 2.06.94-2.06 2.06-.94-2.06-.94-.94-2.06-.94 2.06-2.06.94zm-11 1L8.5 8.5l.94-2.06 2.06-.94-2.06-.94L8.5 2.5l-.94 2.06-2.06.94zm10 10l.94 2.06.94-2.06 2.06-.94-2.06-.94-.94-2.06-.94 2.06-2.06.94z\"/><path d=\"M17.41 7.96l-1.37-1.37c-.4-.4-.92-.59-1.43-.59-.52 0-1.04.2-1.43.59L10.3 9.45l-7.72 7.72c-.78.78-.78 2.05 0 2.83L4 21.41c.39.39.9.59 1.41.59.51 0 1.02-.2 1.41-.59l7.78-7.78 2.81-2.81c.8-.78.8-2.07 0-2.86zM5.41 20L4 18.59l7.72-7.72 1.47 1.35L5.41 20z\"/>\n",
              "  </svg>\n",
              "      </button>\n",
              "      \n",
              "  <style>\n",
              "    .colab-df-container {\n",
              "      display:flex;\n",
              "      flex-wrap:wrap;\n",
              "      gap: 12px;\n",
              "    }\n",
              "\n",
              "    .colab-df-convert {\n",
              "      background-color: #E8F0FE;\n",
              "      border: none;\n",
              "      border-radius: 50%;\n",
              "      cursor: pointer;\n",
              "      display: none;\n",
              "      fill: #1967D2;\n",
              "      height: 32px;\n",
              "      padding: 0 0 0 0;\n",
              "      width: 32px;\n",
              "    }\n",
              "\n",
              "    .colab-df-convert:hover {\n",
              "      background-color: #E2EBFA;\n",
              "      box-shadow: 0px 1px 2px rgba(60, 64, 67, 0.3), 0px 1px 3px 1px rgba(60, 64, 67, 0.15);\n",
              "      fill: #174EA6;\n",
              "    }\n",
              "\n",
              "    [theme=dark] .colab-df-convert {\n",
              "      background-color: #3B4455;\n",
              "      fill: #D2E3FC;\n",
              "    }\n",
              "\n",
              "    [theme=dark] .colab-df-convert:hover {\n",
              "      background-color: #434B5C;\n",
              "      box-shadow: 0px 1px 3px 1px rgba(0, 0, 0, 0.15);\n",
              "      filter: drop-shadow(0px 1px 2px rgba(0, 0, 0, 0.3));\n",
              "      fill: #FFFFFF;\n",
              "    }\n",
              "  </style>\n",
              "\n",
              "      <script>\n",
              "        const buttonEl =\n",
              "          document.querySelector('#df-c4dd2365-efd8-4371-93ae-de06e0a7b974 button.colab-df-convert');\n",
              "        buttonEl.style.display =\n",
              "          google.colab.kernel.accessAllowed ? 'block' : 'none';\n",
              "\n",
              "        async function convertToInteractive(key) {\n",
              "          const element = document.querySelector('#df-c4dd2365-efd8-4371-93ae-de06e0a7b974');\n",
              "          const dataTable =\n",
              "            await google.colab.kernel.invokeFunction('convertToInteractive',\n",
              "                                                     [key], {});\n",
              "          if (!dataTable) return;\n",
              "\n",
              "          const docLinkHtml = 'Like what you see? Visit the ' +\n",
              "            '<a target=\"_blank\" href=https://colab.research.google.com/notebooks/data_table.ipynb>data table notebook</a>'\n",
              "            + ' to learn more about interactive tables.';\n",
              "          element.innerHTML = '';\n",
              "          dataTable['output_type'] = 'display_data';\n",
              "          await google.colab.output.renderOutput(dataTable, element);\n",
              "          const docLink = document.createElement('div');\n",
              "          docLink.innerHTML = docLinkHtml;\n",
              "          element.appendChild(docLink);\n",
              "        }\n",
              "      </script>\n",
              "    </div>\n",
              "  </div>\n",
              "  "
            ]
          },
          "metadata": {},
          "execution_count": 11
        }
      ],
      "source": [
        "# Preview our traning data\n",
        "train_df.head(5)"
      ],
      "id": "bWgQf4vztkb-"
    },
    {
      "cell_type": "code",
      "execution_count": null,
      "metadata": {
        "colab": {
          "base_uri": "https://localhost:8080/",
          "height": 206
        },
        "id": "IH4nCIjGty0w",
        "outputId": "c2fe25d0-227c-4eb5-a1c8-a2a3acf0988d"
      },
      "outputs": [
        {
          "output_type": "execute_result",
          "data": {
            "text/plain": [
              "     Review ID                                             Review  \\\n",
              "0  2568_laptop  I love the way the entire suite of software wo...   \n",
              "1   295_laptop  The speed is incredible and I am more than sat...   \n",
              "2  2980_laptop  I can barely use any usb devices because they ...   \n",
              "3  2202_laptop  Pairing it with an iPhone is a pure pleasure -...   \n",
              "4  2227_laptop  I also got the added bonus of a 30\" HD Monitor...   \n",
              "\n",
              "             Aspect Term  \n",
              "0      suite of software  \n",
              "1                  speed  \n",
              "2            usb devices  \n",
              "3                syncing  \n",
              "4  30\" HD Monitor,screen  "
            ],
            "text/html": [
              "\n",
              "  <div id=\"df-0460e5f8-1807-4329-aba4-a25282e25c3c\">\n",
              "    <div class=\"colab-df-container\">\n",
              "      <div>\n",
              "<style scoped>\n",
              "    .dataframe tbody tr th:only-of-type {\n",
              "        vertical-align: middle;\n",
              "    }\n",
              "\n",
              "    .dataframe tbody tr th {\n",
              "        vertical-align: top;\n",
              "    }\n",
              "\n",
              "    .dataframe thead th {\n",
              "        text-align: right;\n",
              "    }\n",
              "</style>\n",
              "<table border=\"1\" class=\"dataframe\">\n",
              "  <thead>\n",
              "    <tr style=\"text-align: right;\">\n",
              "      <th></th>\n",
              "      <th>Review ID</th>\n",
              "      <th>Review</th>\n",
              "      <th>Aspect Term</th>\n",
              "    </tr>\n",
              "  </thead>\n",
              "  <tbody>\n",
              "    <tr>\n",
              "      <th>0</th>\n",
              "      <td>2568_laptop</td>\n",
              "      <td>I love the way the entire suite of software wo...</td>\n",
              "      <td>suite of software</td>\n",
              "    </tr>\n",
              "    <tr>\n",
              "      <th>1</th>\n",
              "      <td>295_laptop</td>\n",
              "      <td>The speed is incredible and I am more than sat...</td>\n",
              "      <td>speed</td>\n",
              "    </tr>\n",
              "    <tr>\n",
              "      <th>2</th>\n",
              "      <td>2980_laptop</td>\n",
              "      <td>I can barely use any usb devices because they ...</td>\n",
              "      <td>usb devices</td>\n",
              "    </tr>\n",
              "    <tr>\n",
              "      <th>3</th>\n",
              "      <td>2202_laptop</td>\n",
              "      <td>Pairing it with an iPhone is a pure pleasure -...</td>\n",
              "      <td>syncing</td>\n",
              "    </tr>\n",
              "    <tr>\n",
              "      <th>4</th>\n",
              "      <td>2227_laptop</td>\n",
              "      <td>I also got the added bonus of a 30\" HD Monitor...</td>\n",
              "      <td>30\" HD Monitor,screen</td>\n",
              "    </tr>\n",
              "  </tbody>\n",
              "</table>\n",
              "</div>\n",
              "      <button class=\"colab-df-convert\" onclick=\"convertToInteractive('df-0460e5f8-1807-4329-aba4-a25282e25c3c')\"\n",
              "              title=\"Convert this dataframe to an interactive table.\"\n",
              "              style=\"display:none;\">\n",
              "        \n",
              "  <svg xmlns=\"http://www.w3.org/2000/svg\" height=\"24px\"viewBox=\"0 0 24 24\"\n",
              "       width=\"24px\">\n",
              "    <path d=\"M0 0h24v24H0V0z\" fill=\"none\"/>\n",
              "    <path d=\"M18.56 5.44l.94 2.06.94-2.06 2.06-.94-2.06-.94-.94-2.06-.94 2.06-2.06.94zm-11 1L8.5 8.5l.94-2.06 2.06-.94-2.06-.94L8.5 2.5l-.94 2.06-2.06.94zm10 10l.94 2.06.94-2.06 2.06-.94-2.06-.94-.94-2.06-.94 2.06-2.06.94z\"/><path d=\"M17.41 7.96l-1.37-1.37c-.4-.4-.92-.59-1.43-.59-.52 0-1.04.2-1.43.59L10.3 9.45l-7.72 7.72c-.78.78-.78 2.05 0 2.83L4 21.41c.39.39.9.59 1.41.59.51 0 1.02-.2 1.41-.59l7.78-7.78 2.81-2.81c.8-.78.8-2.07 0-2.86zM5.41 20L4 18.59l7.72-7.72 1.47 1.35L5.41 20z\"/>\n",
              "  </svg>\n",
              "      </button>\n",
              "      \n",
              "  <style>\n",
              "    .colab-df-container {\n",
              "      display:flex;\n",
              "      flex-wrap:wrap;\n",
              "      gap: 12px;\n",
              "    }\n",
              "\n",
              "    .colab-df-convert {\n",
              "      background-color: #E8F0FE;\n",
              "      border: none;\n",
              "      border-radius: 50%;\n",
              "      cursor: pointer;\n",
              "      display: none;\n",
              "      fill: #1967D2;\n",
              "      height: 32px;\n",
              "      padding: 0 0 0 0;\n",
              "      width: 32px;\n",
              "    }\n",
              "\n",
              "    .colab-df-convert:hover {\n",
              "      background-color: #E2EBFA;\n",
              "      box-shadow: 0px 1px 2px rgba(60, 64, 67, 0.3), 0px 1px 3px 1px rgba(60, 64, 67, 0.15);\n",
              "      fill: #174EA6;\n",
              "    }\n",
              "\n",
              "    [theme=dark] .colab-df-convert {\n",
              "      background-color: #3B4455;\n",
              "      fill: #D2E3FC;\n",
              "    }\n",
              "\n",
              "    [theme=dark] .colab-df-convert:hover {\n",
              "      background-color: #434B5C;\n",
              "      box-shadow: 0px 1px 3px 1px rgba(0, 0, 0, 0.15);\n",
              "      filter: drop-shadow(0px 1px 2px rgba(0, 0, 0, 0.3));\n",
              "      fill: #FFFFFF;\n",
              "    }\n",
              "  </style>\n",
              "\n",
              "      <script>\n",
              "        const buttonEl =\n",
              "          document.querySelector('#df-0460e5f8-1807-4329-aba4-a25282e25c3c button.colab-df-convert');\n",
              "        buttonEl.style.display =\n",
              "          google.colab.kernel.accessAllowed ? 'block' : 'none';\n",
              "\n",
              "        async function convertToInteractive(key) {\n",
              "          const element = document.querySelector('#df-0460e5f8-1807-4329-aba4-a25282e25c3c');\n",
              "          const dataTable =\n",
              "            await google.colab.kernel.invokeFunction('convertToInteractive',\n",
              "                                                     [key], {});\n",
              "          if (!dataTable) return;\n",
              "\n",
              "          const docLinkHtml = 'Like what you see? Visit the ' +\n",
              "            '<a target=\"_blank\" href=https://colab.research.google.com/notebooks/data_table.ipynb>data table notebook</a>'\n",
              "            + ' to learn more about interactive tables.';\n",
              "          element.innerHTML = '';\n",
              "          dataTable['output_type'] = 'display_data';\n",
              "          await google.colab.output.renderOutput(dataTable, element);\n",
              "          const docLink = document.createElement('div');\n",
              "          docLink.innerHTML = docLinkHtml;\n",
              "          element.appendChild(docLink);\n",
              "        }\n",
              "      </script>\n",
              "    </div>\n",
              "  </div>\n",
              "  "
            ]
          },
          "metadata": {},
          "execution_count": 12
        }
      ],
      "source": [
        "# Preview our valid data\n",
        "valid_df.head(5)"
      ],
      "id": "IH4nCIjGty0w"
    },
    {
      "cell_type": "code",
      "execution_count": null,
      "metadata": {
        "colab": {
          "base_uri": "https://localhost:8080/"
        },
        "id": "XLmkLD75tp4L",
        "outputId": "4314a3be-187f-49a0-d81c-912a85401284"
      },
      "outputs": [
        {
          "output_type": "stream",
          "name": "stdout",
          "text": [
            "Train data size: 2812\n",
            "Valid data size: 703\n"
          ]
        }
      ],
      "source": [
        "# See our data sizes\n",
        "print(\"Train data size:\", len(train_df))\n",
        "print(\"Valid data size:\", len(valid_df))"
      ],
      "id": "XLmkLD75tp4L"
    },
    {
      "cell_type": "markdown",
      "metadata": {
        "id": "7PY9tEyvvla9"
      },
      "source": [
        "To solve the Aspect Term Extraction (ATE) task, in this project, we'll explore 3 approaches:\n",
        "- The first approach is simply dictionary-based. In this approach, we will use the aspect term in our training dataset to create a dictionary of aspect terms. Then, we'll use that dictionary to look up the terms in the valid dataset\n",
        "- The second approach is using Word2Vec with a convolutional model. Let's see if word representation can do a better job. The word reprentation we'll use is from \"Glove.6B.300d.txt\".\n",
        "- The third approach is based on pretrained models, which have achieved SOTA performance on many NLP tasks. The pretrain model we'll mainly explore is BERT. "
      ],
      "id": "7PY9tEyvvla9"
    },
    {
      "cell_type": "markdown",
      "metadata": {
        "id": "d39e69de"
      },
      "source": [
        "## Approach 1: Dictionary-based"
      ],
      "id": "d39e69de"
    },
    {
      "cell_type": "code",
      "source": [
        "# Preview our traning data\n",
        "train_df.head(2)"
      ],
      "metadata": {
        "colab": {
          "base_uri": "https://localhost:8080/",
          "height": 112
        },
        "id": "Jo-788fNXiIj",
        "outputId": "8178c834-ebb6-45f7-c930-a911afef4c1b"
      },
      "id": "Jo-788fNXiIj",
      "execution_count": null,
      "outputs": [
        {
          "output_type": "execute_result",
          "data": {
            "text/plain": [
              "     Review ID                                             Review  \\\n",
              "0  2909_laptop  Have had many higher priced computers crash an...   \n",
              "1  2494_laptop  The big screen allows you to enjoy watching mo...   \n",
              "\n",
              "           Aspect Term  \n",
              "0  memory,speed,priced  \n",
              "1               screen  "
            ],
            "text/html": [
              "\n",
              "  <div id=\"df-c68ec42c-a366-4ff8-99a4-5737b72b0246\">\n",
              "    <div class=\"colab-df-container\">\n",
              "      <div>\n",
              "<style scoped>\n",
              "    .dataframe tbody tr th:only-of-type {\n",
              "        vertical-align: middle;\n",
              "    }\n",
              "\n",
              "    .dataframe tbody tr th {\n",
              "        vertical-align: top;\n",
              "    }\n",
              "\n",
              "    .dataframe thead th {\n",
              "        text-align: right;\n",
              "    }\n",
              "</style>\n",
              "<table border=\"1\" class=\"dataframe\">\n",
              "  <thead>\n",
              "    <tr style=\"text-align: right;\">\n",
              "      <th></th>\n",
              "      <th>Review ID</th>\n",
              "      <th>Review</th>\n",
              "      <th>Aspect Term</th>\n",
              "    </tr>\n",
              "  </thead>\n",
              "  <tbody>\n",
              "    <tr>\n",
              "      <th>0</th>\n",
              "      <td>2909_laptop</td>\n",
              "      <td>Have had many higher priced computers crash an...</td>\n",
              "      <td>memory,speed,priced</td>\n",
              "    </tr>\n",
              "    <tr>\n",
              "      <th>1</th>\n",
              "      <td>2494_laptop</td>\n",
              "      <td>The big screen allows you to enjoy watching mo...</td>\n",
              "      <td>screen</td>\n",
              "    </tr>\n",
              "  </tbody>\n",
              "</table>\n",
              "</div>\n",
              "      <button class=\"colab-df-convert\" onclick=\"convertToInteractive('df-c68ec42c-a366-4ff8-99a4-5737b72b0246')\"\n",
              "              title=\"Convert this dataframe to an interactive table.\"\n",
              "              style=\"display:none;\">\n",
              "        \n",
              "  <svg xmlns=\"http://www.w3.org/2000/svg\" height=\"24px\"viewBox=\"0 0 24 24\"\n",
              "       width=\"24px\">\n",
              "    <path d=\"M0 0h24v24H0V0z\" fill=\"none\"/>\n",
              "    <path d=\"M18.56 5.44l.94 2.06.94-2.06 2.06-.94-2.06-.94-.94-2.06-.94 2.06-2.06.94zm-11 1L8.5 8.5l.94-2.06 2.06-.94-2.06-.94L8.5 2.5l-.94 2.06-2.06.94zm10 10l.94 2.06.94-2.06 2.06-.94-2.06-.94-.94-2.06-.94 2.06-2.06.94z\"/><path d=\"M17.41 7.96l-1.37-1.37c-.4-.4-.92-.59-1.43-.59-.52 0-1.04.2-1.43.59L10.3 9.45l-7.72 7.72c-.78.78-.78 2.05 0 2.83L4 21.41c.39.39.9.59 1.41.59.51 0 1.02-.2 1.41-.59l7.78-7.78 2.81-2.81c.8-.78.8-2.07 0-2.86zM5.41 20L4 18.59l7.72-7.72 1.47 1.35L5.41 20z\"/>\n",
              "  </svg>\n",
              "      </button>\n",
              "      \n",
              "  <style>\n",
              "    .colab-df-container {\n",
              "      display:flex;\n",
              "      flex-wrap:wrap;\n",
              "      gap: 12px;\n",
              "    }\n",
              "\n",
              "    .colab-df-convert {\n",
              "      background-color: #E8F0FE;\n",
              "      border: none;\n",
              "      border-radius: 50%;\n",
              "      cursor: pointer;\n",
              "      display: none;\n",
              "      fill: #1967D2;\n",
              "      height: 32px;\n",
              "      padding: 0 0 0 0;\n",
              "      width: 32px;\n",
              "    }\n",
              "\n",
              "    .colab-df-convert:hover {\n",
              "      background-color: #E2EBFA;\n",
              "      box-shadow: 0px 1px 2px rgba(60, 64, 67, 0.3), 0px 1px 3px 1px rgba(60, 64, 67, 0.15);\n",
              "      fill: #174EA6;\n",
              "    }\n",
              "\n",
              "    [theme=dark] .colab-df-convert {\n",
              "      background-color: #3B4455;\n",
              "      fill: #D2E3FC;\n",
              "    }\n",
              "\n",
              "    [theme=dark] .colab-df-convert:hover {\n",
              "      background-color: #434B5C;\n",
              "      box-shadow: 0px 1px 3px 1px rgba(0, 0, 0, 0.15);\n",
              "      filter: drop-shadow(0px 1px 2px rgba(0, 0, 0, 0.3));\n",
              "      fill: #FFFFFF;\n",
              "    }\n",
              "  </style>\n",
              "\n",
              "      <script>\n",
              "        const buttonEl =\n",
              "          document.querySelector('#df-c68ec42c-a366-4ff8-99a4-5737b72b0246 button.colab-df-convert');\n",
              "        buttonEl.style.display =\n",
              "          google.colab.kernel.accessAllowed ? 'block' : 'none';\n",
              "\n",
              "        async function convertToInteractive(key) {\n",
              "          const element = document.querySelector('#df-c68ec42c-a366-4ff8-99a4-5737b72b0246');\n",
              "          const dataTable =\n",
              "            await google.colab.kernel.invokeFunction('convertToInteractive',\n",
              "                                                     [key], {});\n",
              "          if (!dataTable) return;\n",
              "\n",
              "          const docLinkHtml = 'Like what you see? Visit the ' +\n",
              "            '<a target=\"_blank\" href=https://colab.research.google.com/notebooks/data_table.ipynb>data table notebook</a>'\n",
              "            + ' to learn more about interactive tables.';\n",
              "          element.innerHTML = '';\n",
              "          dataTable['output_type'] = 'display_data';\n",
              "          await google.colab.output.renderOutput(dataTable, element);\n",
              "          const docLink = document.createElement('div');\n",
              "          docLink.innerHTML = docLinkHtml;\n",
              "          element.appendChild(docLink);\n",
              "        }\n",
              "      </script>\n",
              "    </div>\n",
              "  </div>\n",
              "  "
            ]
          },
          "metadata": {},
          "execution_count": 14
        }
      ]
    },
    {
      "cell_type": "code",
      "execution_count": null,
      "metadata": {
        "colab": {
          "base_uri": "https://localhost:8080/"
        },
        "id": "_n47mWG4yadb",
        "outputId": "26fbb933-edba-482f-9827-cf742305d687"
      },
      "outputs": [
        {
          "output_type": "stream",
          "name": "stdout",
          "text": [
            "Length of dictionary: 1917\n"
          ]
        }
      ],
      "source": [
        "# We extract terms from our training data to make the dictionary\n",
        "term_dictionary = set([j for i in list(train_df['Aspect Term']) for j in i.split(',')])\n",
        "print(\"Length of dictionary:\", len(term_dictionary))"
      ],
      "id": "_n47mWG4yadb"
    },
    {
      "cell_type": "code",
      "execution_count": null,
      "metadata": {
        "colab": {
          "base_uri": "https://localhost:8080/",
          "height": 206
        },
        "id": "K3PjUVmzyug-",
        "outputId": "63a81f89-2090-4a32-a388-151ef2729fe4"
      },
      "outputs": [
        {
          "output_type": "execute_result",
          "data": {
            "text/plain": [
              "     Review ID       True Aspect Term Predicted Aspect Term List\n",
              "0  2568_laptop      suite of software          [software, works]\n",
              "1   295_laptop                  speed                    [speed]\n",
              "2  2980_laptop            usb devices                      [use]\n",
              "3  2202_laptop                syncing                         []\n",
              "4  2227_laptop  30\" HD Monitor,screen               [HD, screen]"
            ],
            "text/html": [
              "\n",
              "  <div id=\"df-d1ad36e5-b142-416c-badc-0bed524afc44\">\n",
              "    <div class=\"colab-df-container\">\n",
              "      <div>\n",
              "<style scoped>\n",
              "    .dataframe tbody tr th:only-of-type {\n",
              "        vertical-align: middle;\n",
              "    }\n",
              "\n",
              "    .dataframe tbody tr th {\n",
              "        vertical-align: top;\n",
              "    }\n",
              "\n",
              "    .dataframe thead th {\n",
              "        text-align: right;\n",
              "    }\n",
              "</style>\n",
              "<table border=\"1\" class=\"dataframe\">\n",
              "  <thead>\n",
              "    <tr style=\"text-align: right;\">\n",
              "      <th></th>\n",
              "      <th>Review ID</th>\n",
              "      <th>True Aspect Term</th>\n",
              "      <th>Predicted Aspect Term List</th>\n",
              "    </tr>\n",
              "  </thead>\n",
              "  <tbody>\n",
              "    <tr>\n",
              "      <th>0</th>\n",
              "      <td>2568_laptop</td>\n",
              "      <td>suite of software</td>\n",
              "      <td>[software, works]</td>\n",
              "    </tr>\n",
              "    <tr>\n",
              "      <th>1</th>\n",
              "      <td>295_laptop</td>\n",
              "      <td>speed</td>\n",
              "      <td>[speed]</td>\n",
              "    </tr>\n",
              "    <tr>\n",
              "      <th>2</th>\n",
              "      <td>2980_laptop</td>\n",
              "      <td>usb devices</td>\n",
              "      <td>[use]</td>\n",
              "    </tr>\n",
              "    <tr>\n",
              "      <th>3</th>\n",
              "      <td>2202_laptop</td>\n",
              "      <td>syncing</td>\n",
              "      <td>[]</td>\n",
              "    </tr>\n",
              "    <tr>\n",
              "      <th>4</th>\n",
              "      <td>2227_laptop</td>\n",
              "      <td>30\" HD Monitor,screen</td>\n",
              "      <td>[HD, screen]</td>\n",
              "    </tr>\n",
              "  </tbody>\n",
              "</table>\n",
              "</div>\n",
              "      <button class=\"colab-df-convert\" onclick=\"convertToInteractive('df-d1ad36e5-b142-416c-badc-0bed524afc44')\"\n",
              "              title=\"Convert this dataframe to an interactive table.\"\n",
              "              style=\"display:none;\">\n",
              "        \n",
              "  <svg xmlns=\"http://www.w3.org/2000/svg\" height=\"24px\"viewBox=\"0 0 24 24\"\n",
              "       width=\"24px\">\n",
              "    <path d=\"M0 0h24v24H0V0z\" fill=\"none\"/>\n",
              "    <path d=\"M18.56 5.44l.94 2.06.94-2.06 2.06-.94-2.06-.94-.94-2.06-.94 2.06-2.06.94zm-11 1L8.5 8.5l.94-2.06 2.06-.94-2.06-.94L8.5 2.5l-.94 2.06-2.06.94zm10 10l.94 2.06.94-2.06 2.06-.94-2.06-.94-.94-2.06-.94 2.06-2.06.94z\"/><path d=\"M17.41 7.96l-1.37-1.37c-.4-.4-.92-.59-1.43-.59-.52 0-1.04.2-1.43.59L10.3 9.45l-7.72 7.72c-.78.78-.78 2.05 0 2.83L4 21.41c.39.39.9.59 1.41.59.51 0 1.02-.2 1.41-.59l7.78-7.78 2.81-2.81c.8-.78.8-2.07 0-2.86zM5.41 20L4 18.59l7.72-7.72 1.47 1.35L5.41 20z\"/>\n",
              "  </svg>\n",
              "      </button>\n",
              "      \n",
              "  <style>\n",
              "    .colab-df-container {\n",
              "      display:flex;\n",
              "      flex-wrap:wrap;\n",
              "      gap: 12px;\n",
              "    }\n",
              "\n",
              "    .colab-df-convert {\n",
              "      background-color: #E8F0FE;\n",
              "      border: none;\n",
              "      border-radius: 50%;\n",
              "      cursor: pointer;\n",
              "      display: none;\n",
              "      fill: #1967D2;\n",
              "      height: 32px;\n",
              "      padding: 0 0 0 0;\n",
              "      width: 32px;\n",
              "    }\n",
              "\n",
              "    .colab-df-convert:hover {\n",
              "      background-color: #E2EBFA;\n",
              "      box-shadow: 0px 1px 2px rgba(60, 64, 67, 0.3), 0px 1px 3px 1px rgba(60, 64, 67, 0.15);\n",
              "      fill: #174EA6;\n",
              "    }\n",
              "\n",
              "    [theme=dark] .colab-df-convert {\n",
              "      background-color: #3B4455;\n",
              "      fill: #D2E3FC;\n",
              "    }\n",
              "\n",
              "    [theme=dark] .colab-df-convert:hover {\n",
              "      background-color: #434B5C;\n",
              "      box-shadow: 0px 1px 3px 1px rgba(0, 0, 0, 0.15);\n",
              "      filter: drop-shadow(0px 1px 2px rgba(0, 0, 0, 0.3));\n",
              "      fill: #FFFFFF;\n",
              "    }\n",
              "  </style>\n",
              "\n",
              "      <script>\n",
              "        const buttonEl =\n",
              "          document.querySelector('#df-d1ad36e5-b142-416c-badc-0bed524afc44 button.colab-df-convert');\n",
              "        buttonEl.style.display =\n",
              "          google.colab.kernel.accessAllowed ? 'block' : 'none';\n",
              "\n",
              "        async function convertToInteractive(key) {\n",
              "          const element = document.querySelector('#df-d1ad36e5-b142-416c-badc-0bed524afc44');\n",
              "          const dataTable =\n",
              "            await google.colab.kernel.invokeFunction('convertToInteractive',\n",
              "                                                     [key], {});\n",
              "          if (!dataTable) return;\n",
              "\n",
              "          const docLinkHtml = 'Like what you see? Visit the ' +\n",
              "            '<a target=\"_blank\" href=https://colab.research.google.com/notebooks/data_table.ipynb>data table notebook</a>'\n",
              "            + ' to learn more about interactive tables.';\n",
              "          element.innerHTML = '';\n",
              "          dataTable['output_type'] = 'display_data';\n",
              "          await google.colab.output.renderOutput(dataTable, element);\n",
              "          const docLink = document.createElement('div');\n",
              "          docLink.innerHTML = docLinkHtml;\n",
              "          element.appendChild(docLink);\n",
              "        }\n",
              "      </script>\n",
              "    </div>\n",
              "  </div>\n",
              "  "
            ]
          },
          "metadata": {},
          "execution_count": 40
        }
      ],
      "source": [
        "from nltk import ngrams\n",
        "\n",
        "# For each review, extract aspect terms from the review based on the dictionary\n",
        "data_l = [] # this list will be used to generate the a dataframe displaying results\n",
        "for row in valid_df.itertuples():\n",
        "    # Tokenize the review in valid_df into words. \n",
        "    # We'll tokenize the review sentence in 1,2,and 3grams. We can tokenize upto as a high number as we want.\n",
        "    ngram_list = [ngrams(row[2].split(), n) for n in [1,2,3]]\n",
        "    aspect_terms = []\n",
        "    # Extract aspect term\n",
        "    for i in range(len(ngram_list)):\n",
        "        for w in ngram_list[i]:\n",
        "            if ' '.join(w) in term_dictionary:\n",
        "                aspect_terms.append(' '.join(w))\n",
        "    data = {}\n",
        "    data['Review ID'] = row[1]\n",
        "    data['True Aspect Term'] = row[3]\n",
        "    data['Predicted Aspect Term List'] = aspect_terms\n",
        "    data_l.append(data)\n",
        "# Create dataframe including true aspect term and predicted aspect term\n",
        "result = pd.DataFrame(data_l)\n",
        "result.head(5)"
      ],
      "id": "K3PjUVmzyug-"
    },
    {
      "cell_type": "code",
      "execution_count": null,
      "metadata": {
        "colab": {
          "base_uri": "https://localhost:8080/"
        },
        "id": "DlnzQ7KcJVgD",
        "outputId": "52dc0ebc-7b30-4e88-ac41-7a1dfc0ea847"
      },
      "outputs": [
        {
          "output_type": "stream",
          "name": "stdout",
          "text": [
            "Recall: 46.15%,  Precision: 49.07%,  F1 Score: 47.57% \n"
          ]
        }
      ],
      "source": [
        "# Check performance\n",
        "import numpy as np\n",
        "true_term = list(result['True Aspect Term'])\n",
        "pred_term = list(result['Predicted Aspect Term List'])\n",
        "# Get True positive\n",
        "correct = sum([1 for i in range(len(true_term)) for j in true_term[i].split(',') if j in pred_term[i]])\n",
        "# Calculate recall\n",
        "recall = correct / len([j for i in range(len(true_term)) for j in true_term[i].split(',')])\n",
        "# Calculate precision\n",
        "pred = result.groupby(['Review ID']).agg({'Predicted Aspect Term List': 'first'})\n",
        "precision = correct / sum([len(i) for i in pred['Predicted Aspect Term List']])\n",
        "# Calculate f1\n",
        "f1_score = 2*precision*recall/(precision+recall)\n",
        "print(f\"Recall: {round(recall*100,2)}%, \", f\"Precision: {round(precision*100,2)}%, \", f\"F1 Score: {round(f1_score*100,2)}% \")"
      ],
      "id": "DlnzQ7KcJVgD"
    },
    {
      "cell_type": "markdown",
      "metadata": {
        "id": "EJWqmUs0uXYw"
      },
      "source": [
        "## Approach 2: Word2Vec"
      ],
      "id": "EJWqmUs0uXYw"
    },
    {
      "cell_type": "code",
      "execution_count": null,
      "metadata": {
        "id": "XRGzra4vWQN7"
      },
      "outputs": [],
      "source": [
        "# Download Word Represtation 'glove.6B.300d.txt'\n",
        "# Locate the file \n",
        "# paths to files in Google drive\n",
        "word_vec = './Projects/glove.6B.300d.txt'"
      ],
      "id": "XRGzra4vWQN7"
    },
    {
      "cell_type": "code",
      "execution_count": null,
      "metadata": {
        "colab": {
          "base_uri": "https://localhost:8080/"
        },
        "id": "ZDMAnXadEaEC",
        "outputId": "56d84f35-6e84-48a6-cccd-eab1069f3f1b"
      },
      "outputs": [
        {
          "output_type": "stream",
          "name": "stdout",
          "text": [
            "Found 400000 word vectors.\n"
          ]
        }
      ],
      "source": [
        "### Create a dictionary containing word representation: {word: embeddings}\n",
        "import numpy as np\n",
        "embeddings_index = {}\n",
        "f = open(word_vec)\n",
        "for line in f:\n",
        "    values = line.split()\n",
        "    word = values[0]\n",
        "    coefs = np.asarray(values[1:], dtype='float32')\n",
        "    embeddings_index[word] = coefs\n",
        "f.close()\n",
        "\n",
        "print(f'Found {len(embeddings_index)} word vectors.')"
      ],
      "id": "ZDMAnXadEaEC"
    },
    {
      "cell_type": "markdown",
      "metadata": {
        "id": "olnJb2O57YLm"
      },
      "source": [
        "Now, we'll need to edit the input format a litte to make it better suit our preprocessing method that we'll use later on our data."
      ],
      "id": "olnJb2O57YLm"
    },
    {
      "cell_type": "code",
      "source": [
        "# Let's see how the current data looklike:\n",
        "train_df[train_df['Review ID'] == '2909_laptop']"
      ],
      "metadata": {
        "colab": {
          "base_uri": "https://localhost:8080/",
          "height": 81
        },
        "id": "GomdZ71XKBiH",
        "outputId": "fc1d01ed-f390-44b6-d945-7a31177e18be"
      },
      "id": "GomdZ71XKBiH",
      "execution_count": null,
      "outputs": [
        {
          "output_type": "execute_result",
          "data": {
            "text/plain": [
              "     Review ID                                             Review  \\\n",
              "0  2909_laptop  Have had many higher priced computers crash an...   \n",
              "\n",
              "           Aspect Term  \n",
              "0  memory,speed,priced  "
            ],
            "text/html": [
              "\n",
              "  <div id=\"df-f618b1c2-2948-4c06-a184-0fc0cb21f580\">\n",
              "    <div class=\"colab-df-container\">\n",
              "      <div>\n",
              "<style scoped>\n",
              "    .dataframe tbody tr th:only-of-type {\n",
              "        vertical-align: middle;\n",
              "    }\n",
              "\n",
              "    .dataframe tbody tr th {\n",
              "        vertical-align: top;\n",
              "    }\n",
              "\n",
              "    .dataframe thead th {\n",
              "        text-align: right;\n",
              "    }\n",
              "</style>\n",
              "<table border=\"1\" class=\"dataframe\">\n",
              "  <thead>\n",
              "    <tr style=\"text-align: right;\">\n",
              "      <th></th>\n",
              "      <th>Review ID</th>\n",
              "      <th>Review</th>\n",
              "      <th>Aspect Term</th>\n",
              "    </tr>\n",
              "  </thead>\n",
              "  <tbody>\n",
              "    <tr>\n",
              "      <th>0</th>\n",
              "      <td>2909_laptop</td>\n",
              "      <td>Have had many higher priced computers crash an...</td>\n",
              "      <td>memory,speed,priced</td>\n",
              "    </tr>\n",
              "  </tbody>\n",
              "</table>\n",
              "</div>\n",
              "      <button class=\"colab-df-convert\" onclick=\"convertToInteractive('df-f618b1c2-2948-4c06-a184-0fc0cb21f580')\"\n",
              "              title=\"Convert this dataframe to an interactive table.\"\n",
              "              style=\"display:none;\">\n",
              "        \n",
              "  <svg xmlns=\"http://www.w3.org/2000/svg\" height=\"24px\"viewBox=\"0 0 24 24\"\n",
              "       width=\"24px\">\n",
              "    <path d=\"M0 0h24v24H0V0z\" fill=\"none\"/>\n",
              "    <path d=\"M18.56 5.44l.94 2.06.94-2.06 2.06-.94-2.06-.94-.94-2.06-.94 2.06-2.06.94zm-11 1L8.5 8.5l.94-2.06 2.06-.94-2.06-.94L8.5 2.5l-.94 2.06-2.06.94zm10 10l.94 2.06.94-2.06 2.06-.94-2.06-.94-.94-2.06-.94 2.06-2.06.94z\"/><path d=\"M17.41 7.96l-1.37-1.37c-.4-.4-.92-.59-1.43-.59-.52 0-1.04.2-1.43.59L10.3 9.45l-7.72 7.72c-.78.78-.78 2.05 0 2.83L4 21.41c.39.39.9.59 1.41.59.51 0 1.02-.2 1.41-.59l7.78-7.78 2.81-2.81c.8-.78.8-2.07 0-2.86zM5.41 20L4 18.59l7.72-7.72 1.47 1.35L5.41 20z\"/>\n",
              "  </svg>\n",
              "      </button>\n",
              "      \n",
              "  <style>\n",
              "    .colab-df-container {\n",
              "      display:flex;\n",
              "      flex-wrap:wrap;\n",
              "      gap: 12px;\n",
              "    }\n",
              "\n",
              "    .colab-df-convert {\n",
              "      background-color: #E8F0FE;\n",
              "      border: none;\n",
              "      border-radius: 50%;\n",
              "      cursor: pointer;\n",
              "      display: none;\n",
              "      fill: #1967D2;\n",
              "      height: 32px;\n",
              "      padding: 0 0 0 0;\n",
              "      width: 32px;\n",
              "    }\n",
              "\n",
              "    .colab-df-convert:hover {\n",
              "      background-color: #E2EBFA;\n",
              "      box-shadow: 0px 1px 2px rgba(60, 64, 67, 0.3), 0px 1px 3px 1px rgba(60, 64, 67, 0.15);\n",
              "      fill: #174EA6;\n",
              "    }\n",
              "\n",
              "    [theme=dark] .colab-df-convert {\n",
              "      background-color: #3B4455;\n",
              "      fill: #D2E3FC;\n",
              "    }\n",
              "\n",
              "    [theme=dark] .colab-df-convert:hover {\n",
              "      background-color: #434B5C;\n",
              "      box-shadow: 0px 1px 3px 1px rgba(0, 0, 0, 0.15);\n",
              "      filter: drop-shadow(0px 1px 2px rgba(0, 0, 0, 0.3));\n",
              "      fill: #FFFFFF;\n",
              "    }\n",
              "  </style>\n",
              "\n",
              "      <script>\n",
              "        const buttonEl =\n",
              "          document.querySelector('#df-f618b1c2-2948-4c06-a184-0fc0cb21f580 button.colab-df-convert');\n",
              "        buttonEl.style.display =\n",
              "          google.colab.kernel.accessAllowed ? 'block' : 'none';\n",
              "\n",
              "        async function convertToInteractive(key) {\n",
              "          const element = document.querySelector('#df-f618b1c2-2948-4c06-a184-0fc0cb21f580');\n",
              "          const dataTable =\n",
              "            await google.colab.kernel.invokeFunction('convertToInteractive',\n",
              "                                                     [key], {});\n",
              "          if (!dataTable) return;\n",
              "\n",
              "          const docLinkHtml = 'Like what you see? Visit the ' +\n",
              "            '<a target=\"_blank\" href=https://colab.research.google.com/notebooks/data_table.ipynb>data table notebook</a>'\n",
              "            + ' to learn more about interactive tables.';\n",
              "          element.innerHTML = '';\n",
              "          dataTable['output_type'] = 'display_data';\n",
              "          await google.colab.output.renderOutput(dataTable, element);\n",
              "          const docLink = document.createElement('div');\n",
              "          docLink.innerHTML = docLinkHtml;\n",
              "          element.appendChild(docLink);\n",
              "        }\n",
              "      </script>\n",
              "    </div>\n",
              "  </div>\n",
              "  "
            ]
          },
          "metadata": {},
          "execution_count": 18
        }
      ]
    },
    {
      "cell_type": "code",
      "execution_count": null,
      "metadata": {
        "colab": {
          "base_uri": "https://localhost:8080/"
        },
        "id": "mPa4Yy0m4EFp",
        "outputId": "42a44ef7-0ffe-4019-a599-1981784652ce"
      },
      "outputs": [
        {
          "output_type": "stream",
          "name": "stdout",
          "text": [
            "2812\n",
            "703\n"
          ]
        }
      ],
      "source": [
        "import re\n",
        "train_df1 = train_df.copy()\n",
        "train_df1['Aspect Term']= train_df1['Aspect Term'].apply(lambda x: re.sub(',',' ',x))\n",
        "\n",
        "valid_df1 = valid_df.copy()\n",
        "valid_df1['Aspect Term']= valid_df1['Aspect Term'].apply(lambda x: re.sub(',',' ',x))\n",
        "\n",
        "print(len(train_df1))\n",
        "print(len(valid_df1))"
      ],
      "id": "mPa4Yy0m4EFp"
    },
    {
      "cell_type": "code",
      "source": [
        "# After\n",
        "train_df1[train_df1['Review ID'] == '2909_laptop']\n",
        "# So basically, we just remove comma ',' between aspect terms. We don't want it appear in the result when we tokenize the aspect terms"
      ],
      "metadata": {
        "colab": {
          "base_uri": "https://localhost:8080/",
          "height": 81
        },
        "id": "MjWKYmJ3KD5J",
        "outputId": "7cb12955-782f-412f-d9cd-d7651ad6182c"
      },
      "id": "MjWKYmJ3KD5J",
      "execution_count": null,
      "outputs": [
        {
          "output_type": "execute_result",
          "data": {
            "text/plain": [
              "     Review ID                                             Review  \\\n",
              "0  2909_laptop  Have had many higher priced computers crash an...   \n",
              "\n",
              "           Aspect Term  \n",
              "0  memory speed priced  "
            ],
            "text/html": [
              "\n",
              "  <div id=\"df-6762814a-1550-4a55-9d24-766cb4f8ec50\">\n",
              "    <div class=\"colab-df-container\">\n",
              "      <div>\n",
              "<style scoped>\n",
              "    .dataframe tbody tr th:only-of-type {\n",
              "        vertical-align: middle;\n",
              "    }\n",
              "\n",
              "    .dataframe tbody tr th {\n",
              "        vertical-align: top;\n",
              "    }\n",
              "\n",
              "    .dataframe thead th {\n",
              "        text-align: right;\n",
              "    }\n",
              "</style>\n",
              "<table border=\"1\" class=\"dataframe\">\n",
              "  <thead>\n",
              "    <tr style=\"text-align: right;\">\n",
              "      <th></th>\n",
              "      <th>Review ID</th>\n",
              "      <th>Review</th>\n",
              "      <th>Aspect Term</th>\n",
              "    </tr>\n",
              "  </thead>\n",
              "  <tbody>\n",
              "    <tr>\n",
              "      <th>0</th>\n",
              "      <td>2909_laptop</td>\n",
              "      <td>Have had many higher priced computers crash an...</td>\n",
              "      <td>memory speed priced</td>\n",
              "    </tr>\n",
              "  </tbody>\n",
              "</table>\n",
              "</div>\n",
              "      <button class=\"colab-df-convert\" onclick=\"convertToInteractive('df-6762814a-1550-4a55-9d24-766cb4f8ec50')\"\n",
              "              title=\"Convert this dataframe to an interactive table.\"\n",
              "              style=\"display:none;\">\n",
              "        \n",
              "  <svg xmlns=\"http://www.w3.org/2000/svg\" height=\"24px\"viewBox=\"0 0 24 24\"\n",
              "       width=\"24px\">\n",
              "    <path d=\"M0 0h24v24H0V0z\" fill=\"none\"/>\n",
              "    <path d=\"M18.56 5.44l.94 2.06.94-2.06 2.06-.94-2.06-.94-.94-2.06-.94 2.06-2.06.94zm-11 1L8.5 8.5l.94-2.06 2.06-.94-2.06-.94L8.5 2.5l-.94 2.06-2.06.94zm10 10l.94 2.06.94-2.06 2.06-.94-2.06-.94-.94-2.06-.94 2.06-2.06.94z\"/><path d=\"M17.41 7.96l-1.37-1.37c-.4-.4-.92-.59-1.43-.59-.52 0-1.04.2-1.43.59L10.3 9.45l-7.72 7.72c-.78.78-.78 2.05 0 2.83L4 21.41c.39.39.9.59 1.41.59.51 0 1.02-.2 1.41-.59l7.78-7.78 2.81-2.81c.8-.78.8-2.07 0-2.86zM5.41 20L4 18.59l7.72-7.72 1.47 1.35L5.41 20z\"/>\n",
              "  </svg>\n",
              "      </button>\n",
              "      \n",
              "  <style>\n",
              "    .colab-df-container {\n",
              "      display:flex;\n",
              "      flex-wrap:wrap;\n",
              "      gap: 12px;\n",
              "    }\n",
              "\n",
              "    .colab-df-convert {\n",
              "      background-color: #E8F0FE;\n",
              "      border: none;\n",
              "      border-radius: 50%;\n",
              "      cursor: pointer;\n",
              "      display: none;\n",
              "      fill: #1967D2;\n",
              "      height: 32px;\n",
              "      padding: 0 0 0 0;\n",
              "      width: 32px;\n",
              "    }\n",
              "\n",
              "    .colab-df-convert:hover {\n",
              "      background-color: #E2EBFA;\n",
              "      box-shadow: 0px 1px 2px rgba(60, 64, 67, 0.3), 0px 1px 3px 1px rgba(60, 64, 67, 0.15);\n",
              "      fill: #174EA6;\n",
              "    }\n",
              "\n",
              "    [theme=dark] .colab-df-convert {\n",
              "      background-color: #3B4455;\n",
              "      fill: #D2E3FC;\n",
              "    }\n",
              "\n",
              "    [theme=dark] .colab-df-convert:hover {\n",
              "      background-color: #434B5C;\n",
              "      box-shadow: 0px 1px 3px 1px rgba(0, 0, 0, 0.15);\n",
              "      filter: drop-shadow(0px 1px 2px rgba(0, 0, 0, 0.3));\n",
              "      fill: #FFFFFF;\n",
              "    }\n",
              "  </style>\n",
              "\n",
              "      <script>\n",
              "        const buttonEl =\n",
              "          document.querySelector('#df-6762814a-1550-4a55-9d24-766cb4f8ec50 button.colab-df-convert');\n",
              "        buttonEl.style.display =\n",
              "          google.colab.kernel.accessAllowed ? 'block' : 'none';\n",
              "\n",
              "        async function convertToInteractive(key) {\n",
              "          const element = document.querySelector('#df-6762814a-1550-4a55-9d24-766cb4f8ec50');\n",
              "          const dataTable =\n",
              "            await google.colab.kernel.invokeFunction('convertToInteractive',\n",
              "                                                     [key], {});\n",
              "          if (!dataTable) return;\n",
              "\n",
              "          const docLinkHtml = 'Like what you see? Visit the ' +\n",
              "            '<a target=\"_blank\" href=https://colab.research.google.com/notebooks/data_table.ipynb>data table notebook</a>'\n",
              "            + ' to learn more about interactive tables.';\n",
              "          element.innerHTML = '';\n",
              "          dataTable['output_type'] = 'display_data';\n",
              "          await google.colab.output.renderOutput(dataTable, element);\n",
              "          const docLink = document.createElement('div');\n",
              "          docLink.innerHTML = docLinkHtml;\n",
              "          element.appendChild(docLink);\n",
              "        }\n",
              "      </script>\n",
              "    </div>\n",
              "  </div>\n",
              "  "
            ]
          },
          "metadata": {},
          "execution_count": 20
        }
      ]
    },
    {
      "cell_type": "code",
      "source": [
        "train_df1.shape"
      ],
      "metadata": {
        "colab": {
          "base_uri": "https://localhost:8080/"
        },
        "id": "2P6cmnp4ZSLN",
        "outputId": "205e5604-2ee8-498a-9667-0b178f7c0061"
      },
      "id": "2P6cmnp4ZSLN",
      "execution_count": null,
      "outputs": [
        {
          "output_type": "execute_result",
          "data": {
            "text/plain": [
              "(2812, 3)"
            ]
          },
          "metadata": {},
          "execution_count": 19
        }
      ]
    },
    {
      "cell_type": "markdown",
      "source": [
        "Vectorize the input"
      ],
      "metadata": {
        "id": "l3fq0qqGZyzz"
      },
      "id": "l3fq0qqGZyzz"
    },
    {
      "cell_type": "code",
      "execution_count": null,
      "metadata": {
        "colab": {
          "base_uri": "https://localhost:8080/"
        },
        "id": "_9DodwwAGIbX",
        "outputId": "e53bd74d-45c0-4d48-fca8-244672298f5a"
      },
      "outputs": [
        {
          "output_type": "stream",
          "name": "stderr",
          "text": [
            "[nltk_data] Downloading package stopwords to /root/nltk_data...\n",
            "[nltk_data]   Package stopwords is already up-to-date!\n",
            "[nltk_data] Downloading package punkt to /root/nltk_data...\n",
            "[nltk_data]   Package punkt is already up-to-date!\n"
          ]
        }
      ],
      "source": [
        "# first let's preprocess the input to remove stopwords\n",
        "import nltk\n",
        "nltk.download('stopwords')\n",
        "nltk.download('punkt')\n",
        "from nltk.corpus import stopwords\n",
        "from nltk.tokenize import word_tokenize\n",
        "from nltk.stem import PorterStemmer\n",
        "import re\n",
        "\n",
        "stop_words = list(stopwords.words('english'))\n",
        "stop_words.extend(['The','I'])\n",
        "stemmer = PorterStemmer()\n",
        "\n",
        "def preprocess(review):\n",
        "    review = [stemmer.stem(w.lower()) for w in word_tokenize(re.sub('[^a-zA-Z0-9.,]+', ' ', review))]\n",
        "    #review = [stemmer.stem(w.lower()) for w in word_tokenize(review)]\n",
        "    #review = ' '.join(word_tokenize(re.sub('[^a-zA-Z]+', ' ', review)))\n",
        "    return review\n",
        "# Preprocessing the input\n",
        "train_df1['Review_Preprocessed']= train_df1['Review'].apply(preprocess)"
      ],
      "id": "_9DodwwAGIbX"
    },
    {
      "cell_type": "code",
      "source": [
        "train_df1.head(3)"
      ],
      "metadata": {
        "colab": {
          "base_uri": "https://localhost:8080/",
          "height": 143
        },
        "id": "k3mosJRf6dxU",
        "outputId": "3795a9d6-1ad9-4301-c315-f7062dc41ca0"
      },
      "id": "k3mosJRf6dxU",
      "execution_count": null,
      "outputs": [
        {
          "output_type": "execute_result",
          "data": {
            "text/plain": [
              "     Review ID                                             Review  \\\n",
              "0  2909_laptop  Have had many higher priced computers crash an...   \n",
              "1  2494_laptop  The big screen allows you to enjoy watching mo...   \n",
              "2  2578_laptop  Additional caveat: the base installation comes...   \n",
              "\n",
              "                  Aspect Term  \\\n",
              "0         memory speed priced   \n",
              "1                      screen   \n",
              "2  base installation software   \n",
              "\n",
              "                                 Review_Preprocessed  \n",
              "0  [have, had, mani, higher, price, comput, crash...  \n",
              "1  [the, big, screen, allow, you, to, enjoy, watc...  \n",
              "2  [addit, caveat, the, base, instal, come, with,...  "
            ],
            "text/html": [
              "\n",
              "  <div id=\"df-6e9e90cc-e08d-4db3-9547-c5b62f953bdc\">\n",
              "    <div class=\"colab-df-container\">\n",
              "      <div>\n",
              "<style scoped>\n",
              "    .dataframe tbody tr th:only-of-type {\n",
              "        vertical-align: middle;\n",
              "    }\n",
              "\n",
              "    .dataframe tbody tr th {\n",
              "        vertical-align: top;\n",
              "    }\n",
              "\n",
              "    .dataframe thead th {\n",
              "        text-align: right;\n",
              "    }\n",
              "</style>\n",
              "<table border=\"1\" class=\"dataframe\">\n",
              "  <thead>\n",
              "    <tr style=\"text-align: right;\">\n",
              "      <th></th>\n",
              "      <th>Review ID</th>\n",
              "      <th>Review</th>\n",
              "      <th>Aspect Term</th>\n",
              "      <th>Review_Preprocessed</th>\n",
              "    </tr>\n",
              "  </thead>\n",
              "  <tbody>\n",
              "    <tr>\n",
              "      <th>0</th>\n",
              "      <td>2909_laptop</td>\n",
              "      <td>Have had many higher priced computers crash an...</td>\n",
              "      <td>memory speed priced</td>\n",
              "      <td>[have, had, mani, higher, price, comput, crash...</td>\n",
              "    </tr>\n",
              "    <tr>\n",
              "      <th>1</th>\n",
              "      <td>2494_laptop</td>\n",
              "      <td>The big screen allows you to enjoy watching mo...</td>\n",
              "      <td>screen</td>\n",
              "      <td>[the, big, screen, allow, you, to, enjoy, watc...</td>\n",
              "    </tr>\n",
              "    <tr>\n",
              "      <th>2</th>\n",
              "      <td>2578_laptop</td>\n",
              "      <td>Additional caveat: the base installation comes...</td>\n",
              "      <td>base installation software</td>\n",
              "      <td>[addit, caveat, the, base, instal, come, with,...</td>\n",
              "    </tr>\n",
              "  </tbody>\n",
              "</table>\n",
              "</div>\n",
              "      <button class=\"colab-df-convert\" onclick=\"convertToInteractive('df-6e9e90cc-e08d-4db3-9547-c5b62f953bdc')\"\n",
              "              title=\"Convert this dataframe to an interactive table.\"\n",
              "              style=\"display:none;\">\n",
              "        \n",
              "  <svg xmlns=\"http://www.w3.org/2000/svg\" height=\"24px\"viewBox=\"0 0 24 24\"\n",
              "       width=\"24px\">\n",
              "    <path d=\"M0 0h24v24H0V0z\" fill=\"none\"/>\n",
              "    <path d=\"M18.56 5.44l.94 2.06.94-2.06 2.06-.94-2.06-.94-.94-2.06-.94 2.06-2.06.94zm-11 1L8.5 8.5l.94-2.06 2.06-.94-2.06-.94L8.5 2.5l-.94 2.06-2.06.94zm10 10l.94 2.06.94-2.06 2.06-.94-2.06-.94-.94-2.06-.94 2.06-2.06.94z\"/><path d=\"M17.41 7.96l-1.37-1.37c-.4-.4-.92-.59-1.43-.59-.52 0-1.04.2-1.43.59L10.3 9.45l-7.72 7.72c-.78.78-.78 2.05 0 2.83L4 21.41c.39.39.9.59 1.41.59.51 0 1.02-.2 1.41-.59l7.78-7.78 2.81-2.81c.8-.78.8-2.07 0-2.86zM5.41 20L4 18.59l7.72-7.72 1.47 1.35L5.41 20z\"/>\n",
              "  </svg>\n",
              "      </button>\n",
              "      \n",
              "  <style>\n",
              "    .colab-df-container {\n",
              "      display:flex;\n",
              "      flex-wrap:wrap;\n",
              "      gap: 12px;\n",
              "    }\n",
              "\n",
              "    .colab-df-convert {\n",
              "      background-color: #E8F0FE;\n",
              "      border: none;\n",
              "      border-radius: 50%;\n",
              "      cursor: pointer;\n",
              "      display: none;\n",
              "      fill: #1967D2;\n",
              "      height: 32px;\n",
              "      padding: 0 0 0 0;\n",
              "      width: 32px;\n",
              "    }\n",
              "\n",
              "    .colab-df-convert:hover {\n",
              "      background-color: #E2EBFA;\n",
              "      box-shadow: 0px 1px 2px rgba(60, 64, 67, 0.3), 0px 1px 3px 1px rgba(60, 64, 67, 0.15);\n",
              "      fill: #174EA6;\n",
              "    }\n",
              "\n",
              "    [theme=dark] .colab-df-convert {\n",
              "      background-color: #3B4455;\n",
              "      fill: #D2E3FC;\n",
              "    }\n",
              "\n",
              "    [theme=dark] .colab-df-convert:hover {\n",
              "      background-color: #434B5C;\n",
              "      box-shadow: 0px 1px 3px 1px rgba(0, 0, 0, 0.15);\n",
              "      filter: drop-shadow(0px 1px 2px rgba(0, 0, 0, 0.3));\n",
              "      fill: #FFFFFF;\n",
              "    }\n",
              "  </style>\n",
              "\n",
              "      <script>\n",
              "        const buttonEl =\n",
              "          document.querySelector('#df-6e9e90cc-e08d-4db3-9547-c5b62f953bdc button.colab-df-convert');\n",
              "        buttonEl.style.display =\n",
              "          google.colab.kernel.accessAllowed ? 'block' : 'none';\n",
              "\n",
              "        async function convertToInteractive(key) {\n",
              "          const element = document.querySelector('#df-6e9e90cc-e08d-4db3-9547-c5b62f953bdc');\n",
              "          const dataTable =\n",
              "            await google.colab.kernel.invokeFunction('convertToInteractive',\n",
              "                                                     [key], {});\n",
              "          if (!dataTable) return;\n",
              "\n",
              "          const docLinkHtml = 'Like what you see? Visit the ' +\n",
              "            '<a target=\"_blank\" href=https://colab.research.google.com/notebooks/data_table.ipynb>data table notebook</a>'\n",
              "            + ' to learn more about interactive tables.';\n",
              "          element.innerHTML = '';\n",
              "          dataTable['output_type'] = 'display_data';\n",
              "          await google.colab.output.renderOutput(dataTable, element);\n",
              "          const docLink = document.createElement('div');\n",
              "          docLink.innerHTML = docLinkHtml;\n",
              "          element.appendChild(docLink);\n",
              "        }\n",
              "      </script>\n",
              "    </div>\n",
              "  </div>\n",
              "  "
            ]
          },
          "metadata": {},
          "execution_count": 104
        }
      ]
    },
    {
      "cell_type": "code",
      "execution_count": null,
      "metadata": {
        "colab": {
          "base_uri": "https://localhost:8080/"
        },
        "id": "p2rQSDPUTA9W",
        "outputId": "e31d84e5-e8e0-447c-c876-41ba0cf0da8c"
      },
      "outputs": [
        {
          "output_type": "stream",
          "name": "stdout",
          "text": [
            "Found 3818 unique words in the corpus.\n",
            "Let's have a look at the word_index\n",
            "[('the', 1), ('.', 2), (',', 3), ('and', 4), ('to', 5), ('a', 6), ('i', 7), ('is', 8), ('it', 9), ('of', 10)]\n"
          ]
        }
      ],
      "source": [
        "# Fit token on review corpus\n",
        "from keras.preprocessing.text import Tokenizer\n",
        "tokenizer = Tokenizer(num_words=5000, lower=False) #This number can be tuned.\n",
        "\n",
        "reviews = list(train_df1['Review_Preprocessed'])\n",
        "tokenizer.fit_on_texts(reviews) # Tokenize the corpus\n",
        "sequences = tokenizer.texts_to_sequences(reviews) # turn sequences of words into sequences of word_id\n",
        "\n",
        "word_index = tokenizer.word_index # Word_index will return the unique words in our corpus\n",
        "print('Found %s unique words in the corpus.' % len(word_index))\n",
        "print (\"Let's have a look at the word_index\")\n",
        "print (list(word_index.items())[:10])"
      ],
      "id": "p2rQSDPUTA9W"
    },
    {
      "cell_type": "code",
      "execution_count": null,
      "metadata": {
        "colab": {
          "base_uri": "https://localhost:8080/"
        },
        "id": "CR46hYf_TUs-",
        "outputId": "754e5863-6aeb-48d7-fd55-f5619e7d68af"
      },
      "outputs": [
        {
          "output_type": "stream",
          "name": "stdout",
          "text": [
            "Shape of data tensor: (2812, 80)\n"
          ]
        }
      ],
      "source": [
        "# Padding the sequence\n",
        "MAX_SEQ_LENGTH = train_df1['Review_Preprocessed'].apply(lambda x: len(x)).max()\n",
        "from keras.preprocessing.sequence import pad_sequences\n",
        "data = pad_sequences(sequences, maxlen=MAX_SEQ_LENGTH, padding='post')\n",
        "print('Shape of data tensor:', data.shape)"
      ],
      "id": "CR46hYf_TUs-"
    },
    {
      "cell_type": "code",
      "execution_count": null,
      "metadata": {
        "id": "3IxeBp4zWohF"
      },
      "outputs": [],
      "source": [
        "## Setup training data. Extracting the aspects to create target\n",
        "train_out= np.zeros(shape=data.shape)\n",
        "\n",
        "for item in range(len(train_df1)):\n",
        "\n",
        "    r = train_df1.loc[item,'Review_Preprocessed']\n",
        "    indices = np.zeros(MAX_SEQ_LENGTH) # This is like an aspect-term mask in which aspect terms are 1, others are 0\n",
        "    aspect_term = preprocess(train_df1.loc[item,'Aspect Term'])\n",
        "\n",
        "    for term in aspect_term:\n",
        "        if term in r: # By right, 'term' should be in 'r'. But there sometimes might be error in the training data.\n",
        "            indices[r.index(term)] = 1      \n",
        "    train_out[item] = indices\n"
      ],
      "id": "3IxeBp4zWohF"
    },
    {
      "cell_type": "markdown",
      "source": [
        "Reviewing an example of training data"
      ],
      "metadata": {
        "id": "kmv17AvbaLlP"
      },
      "id": "kmv17AvbaLlP"
    },
    {
      "cell_type": "code",
      "source": [
        "train_df1.iloc[1:2]"
      ],
      "metadata": {
        "colab": {
          "base_uri": "https://localhost:8080/",
          "height": 81
        },
        "id": "E9owG_Fp-OUu",
        "outputId": "1c07c9a6-9c0c-42c7-e876-54564353f876"
      },
      "id": "E9owG_Fp-OUu",
      "execution_count": null,
      "outputs": [
        {
          "output_type": "execute_result",
          "data": {
            "text/plain": [
              "     Review ID                                             Review Aspect Term  \\\n",
              "1  2494_laptop  The big screen allows you to enjoy watching mo...      screen   \n",
              "\n",
              "                                 Review_Preprocessed  \n",
              "1  [the, big, screen, allow, you, to, enjoy, watc...  "
            ],
            "text/html": [
              "\n",
              "  <div id=\"df-cb065c47-b7c8-4c82-b44e-8ec287afac84\">\n",
              "    <div class=\"colab-df-container\">\n",
              "      <div>\n",
              "<style scoped>\n",
              "    .dataframe tbody tr th:only-of-type {\n",
              "        vertical-align: middle;\n",
              "    }\n",
              "\n",
              "    .dataframe tbody tr th {\n",
              "        vertical-align: top;\n",
              "    }\n",
              "\n",
              "    .dataframe thead th {\n",
              "        text-align: right;\n",
              "    }\n",
              "</style>\n",
              "<table border=\"1\" class=\"dataframe\">\n",
              "  <thead>\n",
              "    <tr style=\"text-align: right;\">\n",
              "      <th></th>\n",
              "      <th>Review ID</th>\n",
              "      <th>Review</th>\n",
              "      <th>Aspect Term</th>\n",
              "      <th>Review_Preprocessed</th>\n",
              "    </tr>\n",
              "  </thead>\n",
              "  <tbody>\n",
              "    <tr>\n",
              "      <th>1</th>\n",
              "      <td>2494_laptop</td>\n",
              "      <td>The big screen allows you to enjoy watching mo...</td>\n",
              "      <td>screen</td>\n",
              "      <td>[the, big, screen, allow, you, to, enjoy, watc...</td>\n",
              "    </tr>\n",
              "  </tbody>\n",
              "</table>\n",
              "</div>\n",
              "      <button class=\"colab-df-convert\" onclick=\"convertToInteractive('df-cb065c47-b7c8-4c82-b44e-8ec287afac84')\"\n",
              "              title=\"Convert this dataframe to an interactive table.\"\n",
              "              style=\"display:none;\">\n",
              "        \n",
              "  <svg xmlns=\"http://www.w3.org/2000/svg\" height=\"24px\"viewBox=\"0 0 24 24\"\n",
              "       width=\"24px\">\n",
              "    <path d=\"M0 0h24v24H0V0z\" fill=\"none\"/>\n",
              "    <path d=\"M18.56 5.44l.94 2.06.94-2.06 2.06-.94-2.06-.94-.94-2.06-.94 2.06-2.06.94zm-11 1L8.5 8.5l.94-2.06 2.06-.94-2.06-.94L8.5 2.5l-.94 2.06-2.06.94zm10 10l.94 2.06.94-2.06 2.06-.94-2.06-.94-.94-2.06-.94 2.06-2.06.94z\"/><path d=\"M17.41 7.96l-1.37-1.37c-.4-.4-.92-.59-1.43-.59-.52 0-1.04.2-1.43.59L10.3 9.45l-7.72 7.72c-.78.78-.78 2.05 0 2.83L4 21.41c.39.39.9.59 1.41.59.51 0 1.02-.2 1.41-.59l7.78-7.78 2.81-2.81c.8-.78.8-2.07 0-2.86zM5.41 20L4 18.59l7.72-7.72 1.47 1.35L5.41 20z\"/>\n",
              "  </svg>\n",
              "      </button>\n",
              "      \n",
              "  <style>\n",
              "    .colab-df-container {\n",
              "      display:flex;\n",
              "      flex-wrap:wrap;\n",
              "      gap: 12px;\n",
              "    }\n",
              "\n",
              "    .colab-df-convert {\n",
              "      background-color: #E8F0FE;\n",
              "      border: none;\n",
              "      border-radius: 50%;\n",
              "      cursor: pointer;\n",
              "      display: none;\n",
              "      fill: #1967D2;\n",
              "      height: 32px;\n",
              "      padding: 0 0 0 0;\n",
              "      width: 32px;\n",
              "    }\n",
              "\n",
              "    .colab-df-convert:hover {\n",
              "      background-color: #E2EBFA;\n",
              "      box-shadow: 0px 1px 2px rgba(60, 64, 67, 0.3), 0px 1px 3px 1px rgba(60, 64, 67, 0.15);\n",
              "      fill: #174EA6;\n",
              "    }\n",
              "\n",
              "    [theme=dark] .colab-df-convert {\n",
              "      background-color: #3B4455;\n",
              "      fill: #D2E3FC;\n",
              "    }\n",
              "\n",
              "    [theme=dark] .colab-df-convert:hover {\n",
              "      background-color: #434B5C;\n",
              "      box-shadow: 0px 1px 3px 1px rgba(0, 0, 0, 0.15);\n",
              "      filter: drop-shadow(0px 1px 2px rgba(0, 0, 0, 0.3));\n",
              "      fill: #FFFFFF;\n",
              "    }\n",
              "  </style>\n",
              "\n",
              "      <script>\n",
              "        const buttonEl =\n",
              "          document.querySelector('#df-cb065c47-b7c8-4c82-b44e-8ec287afac84 button.colab-df-convert');\n",
              "        buttonEl.style.display =\n",
              "          google.colab.kernel.accessAllowed ? 'block' : 'none';\n",
              "\n",
              "        async function convertToInteractive(key) {\n",
              "          const element = document.querySelector('#df-cb065c47-b7c8-4c82-b44e-8ec287afac84');\n",
              "          const dataTable =\n",
              "            await google.colab.kernel.invokeFunction('convertToInteractive',\n",
              "                                                     [key], {});\n",
              "          if (!dataTable) return;\n",
              "\n",
              "          const docLinkHtml = 'Like what you see? Visit the ' +\n",
              "            '<a target=\"_blank\" href=https://colab.research.google.com/notebooks/data_table.ipynb>data table notebook</a>'\n",
              "            + ' to learn more about interactive tables.';\n",
              "          element.innerHTML = '';\n",
              "          dataTable['output_type'] = 'display_data';\n",
              "          await google.colab.output.renderOutput(dataTable, element);\n",
              "          const docLink = document.createElement('div');\n",
              "          docLink.innerHTML = docLinkHtml;\n",
              "          element.appendChild(docLink);\n",
              "        }\n",
              "      </script>\n",
              "    </div>\n",
              "  </div>\n",
              "  "
            ]
          },
          "metadata": {},
          "execution_count": 108
        }
      ]
    },
    {
      "cell_type": "code",
      "source": [
        "# this is how the review look like after being tokenized into sequence\n",
        "data[1]"
      ],
      "metadata": {
        "colab": {
          "base_uri": "https://localhost:8080/"
        },
        "id": "T6tcgxEa_XeA",
        "outputId": "c1b358a2-62cc-43ac-d7a1-4c4385bfeb86"
      },
      "id": "T6tcgxEa_XeA",
      "execution_count": null,
      "outputs": [
        {
          "output_type": "execute_result",
          "data": {
            "text/plain": [
              "array([  1, 307,  79, 541,  14,   5, 211, 627, 674,   3, 675,   4, 399,\n",
              "         0,   0,   0,   0,   0,   0,   0,   0,   0,   0,   0,   0,   0,\n",
              "         0,   0,   0,   0,   0,   0,   0,   0,   0,   0,   0,   0,   0,\n",
              "         0,   0,   0,   0,   0,   0,   0,   0,   0,   0,   0,   0,   0,\n",
              "         0,   0,   0,   0,   0,   0,   0,   0,   0,   0,   0,   0,   0,\n",
              "         0,   0,   0,   0,   0,   0,   0,   0,   0,   0,   0,   0,   0,\n",
              "         0,   0], dtype=int32)"
            ]
          },
          "metadata": {},
          "execution_count": 109
        }
      ]
    },
    {
      "cell_type": "code",
      "source": [
        "# The target\n",
        "train_out[1]"
      ],
      "metadata": {
        "colab": {
          "base_uri": "https://localhost:8080/"
        },
        "id": "JG3CfVnm-GKl",
        "outputId": "8269e40c-9dfa-404c-87d0-5c46905b46ec"
      },
      "id": "JG3CfVnm-GKl",
      "execution_count": null,
      "outputs": [
        {
          "output_type": "execute_result",
          "data": {
            "text/plain": [
              "array([0., 0., 1., 0., 0., 0., 0., 0., 0., 0., 0., 0., 0., 0., 0., 0., 0.,\n",
              "       0., 0., 0., 0., 0., 0., 0., 0., 0., 0., 0., 0., 0., 0., 0., 0., 0.,\n",
              "       0., 0., 0., 0., 0., 0., 0., 0., 0., 0., 0., 0., 0., 0., 0., 0., 0.,\n",
              "       0., 0., 0., 0., 0., 0., 0., 0., 0., 0., 0., 0., 0., 0., 0., 0., 0.,\n",
              "       0., 0., 0., 0., 0., 0., 0., 0., 0., 0., 0., 0.])"
            ]
          },
          "metadata": {},
          "execution_count": 110
        }
      ]
    },
    {
      "cell_type": "code",
      "execution_count": null,
      "metadata": {
        "colab": {
          "base_uri": "https://localhost:8080/"
        },
        "id": "Qrx15ZXHf-l7",
        "outputId": "c9f91dcd-2b0e-4649-843c-4a6650ffd48c",
        "cellView": "form"
      },
      "outputs": [
        {
          "output_type": "stream",
          "name": "stdout",
          "text": [
            "Preparing embedding matrix.\n",
            "Embedding matrix shape: (3819, 300)\n"
          ]
        }
      ],
      "source": [
        "#@title Preparing the Embedding layer\n",
        "### Preparing the Embedding Layer\n",
        "print('Preparing embedding matrix.')\n",
        "\n",
        "# prepare embedding matrix\n",
        "embeddings_index_processed ={}\n",
        "for k, v in embeddings_index.items():\n",
        "    k_processed = preprocess(k)\n",
        "    if len(k_processed) > 0:  # preprocess(k) may return an empty list\n",
        "        k_process = k_processed[0] #[0] since the function preprocess() returns a list\n",
        "        embeddings_index_processed[k_process] = v\n",
        "\n",
        "nb_words = len(word_index)\n",
        "embedding_matrix = np.zeros((nb_words + 1, 300))\n",
        "for word, i in word_index.items():\n",
        "    embedding_vector = embeddings_index_processed.get(word)\n",
        "    if embedding_vector is not None:\n",
        "        # words not found in embedding index will be all-zeros.\n",
        "        embedding_matrix[i] = embedding_vector\n",
        "\n",
        "# load pre-trained word embeddings into an Embedding layer\n",
        "# note that we set trainable = False so as to keep the embeddings fixed\n",
        "from keras.layers import Embedding\n",
        "embedding_layer = Embedding(nb_words + 1,\n",
        "                            300,\n",
        "                            weights=[embedding_matrix],\n",
        "                            input_length=MAX_SEQ_LENGTH,\n",
        "                            trainable=False)\n",
        "print(\"Embedding matrix shape:\", embedding_matrix.shape)"
      ],
      "id": "Qrx15ZXHf-l7"
    },
    {
      "cell_type": "code",
      "source": [
        "# Setup valid data. This is similar to what we have performed on training data.\n",
        "valid_df1['Review_Preprocessed']= valid_df1['Review'].apply(preprocess)\n",
        "reviews_valid = list(valid_df1['Review_Preprocessed'])\n",
        "tokenizer.fit_on_texts(reviews_valid) # Tokenize the corpus\n",
        "sequences_valid = tokenizer.texts_to_sequences(reviews_valid)\n",
        "valid_data = pad_sequences(sequences_valid, maxlen=MAX_SEQ_LENGTH, padding='post')\n",
        "valid_out= np.zeros(shape=valid_data.shape)\n",
        "\n",
        "for item in range(len(valid_df1)):\n",
        "    r = valid_df1.loc[item,'Review_Preprocessed']\n",
        "    indices = np.zeros(MAX_SEQ_LENGTH) # This is like an aspect-term mask in which aspect terms are 1, others are 0\n",
        "    \n",
        "    aspect_term = preprocess(valid_df1.loc[item,'Aspect Term'])\n",
        "    for term in aspect_term:\n",
        "        if term in r: # By right, 'term' should be in 'r'. But there sometimes might be error in the training data.\n",
        "            indices[r.index(term)] = 1\n",
        "\n",
        "    valid_out[item] = indices\n",
        "\n",
        "valid = (valid_data, valid_out)"
      ],
      "metadata": {
        "id": "5I65ym2Vxyk3"
      },
      "id": "5I65ym2Vxyk3",
      "execution_count": null,
      "outputs": []
    },
    {
      "cell_type": "code",
      "source": [
        "valid_df1.iloc[0:1]"
      ],
      "metadata": {
        "colab": {
          "base_uri": "https://localhost:8080/",
          "height": 81
        },
        "id": "lisj0ETL-tbW",
        "outputId": "d3db93c4-1506-489a-aa27-92ac73247748"
      },
      "id": "lisj0ETL-tbW",
      "execution_count": null,
      "outputs": [
        {
          "output_type": "execute_result",
          "data": {
            "text/plain": [
              "     Review ID                                             Review  \\\n",
              "0  2568_laptop  I love the way the entire suite of software wo...   \n",
              "\n",
              "         Aspect Term                                Review_Preprocessed  \n",
              "0  suite of software  [i, love, the, way, the, entir, suit, of, soft...  "
            ],
            "text/html": [
              "\n",
              "  <div id=\"df-290af865-8cca-4cc0-9fd8-b239d7d043b2\">\n",
              "    <div class=\"colab-df-container\">\n",
              "      <div>\n",
              "<style scoped>\n",
              "    .dataframe tbody tr th:only-of-type {\n",
              "        vertical-align: middle;\n",
              "    }\n",
              "\n",
              "    .dataframe tbody tr th {\n",
              "        vertical-align: top;\n",
              "    }\n",
              "\n",
              "    .dataframe thead th {\n",
              "        text-align: right;\n",
              "    }\n",
              "</style>\n",
              "<table border=\"1\" class=\"dataframe\">\n",
              "  <thead>\n",
              "    <tr style=\"text-align: right;\">\n",
              "      <th></th>\n",
              "      <th>Review ID</th>\n",
              "      <th>Review</th>\n",
              "      <th>Aspect Term</th>\n",
              "      <th>Review_Preprocessed</th>\n",
              "    </tr>\n",
              "  </thead>\n",
              "  <tbody>\n",
              "    <tr>\n",
              "      <th>0</th>\n",
              "      <td>2568_laptop</td>\n",
              "      <td>I love the way the entire suite of software wo...</td>\n",
              "      <td>suite of software</td>\n",
              "      <td>[i, love, the, way, the, entir, suit, of, soft...</td>\n",
              "    </tr>\n",
              "  </tbody>\n",
              "</table>\n",
              "</div>\n",
              "      <button class=\"colab-df-convert\" onclick=\"convertToInteractive('df-290af865-8cca-4cc0-9fd8-b239d7d043b2')\"\n",
              "              title=\"Convert this dataframe to an interactive table.\"\n",
              "              style=\"display:none;\">\n",
              "        \n",
              "  <svg xmlns=\"http://www.w3.org/2000/svg\" height=\"24px\"viewBox=\"0 0 24 24\"\n",
              "       width=\"24px\">\n",
              "    <path d=\"M0 0h24v24H0V0z\" fill=\"none\"/>\n",
              "    <path d=\"M18.56 5.44l.94 2.06.94-2.06 2.06-.94-2.06-.94-.94-2.06-.94 2.06-2.06.94zm-11 1L8.5 8.5l.94-2.06 2.06-.94-2.06-.94L8.5 2.5l-.94 2.06-2.06.94zm10 10l.94 2.06.94-2.06 2.06-.94-2.06-.94-.94-2.06-.94 2.06-2.06.94z\"/><path d=\"M17.41 7.96l-1.37-1.37c-.4-.4-.92-.59-1.43-.59-.52 0-1.04.2-1.43.59L10.3 9.45l-7.72 7.72c-.78.78-.78 2.05 0 2.83L4 21.41c.39.39.9.59 1.41.59.51 0 1.02-.2 1.41-.59l7.78-7.78 2.81-2.81c.8-.78.8-2.07 0-2.86zM5.41 20L4 18.59l7.72-7.72 1.47 1.35L5.41 20z\"/>\n",
              "  </svg>\n",
              "      </button>\n",
              "      \n",
              "  <style>\n",
              "    .colab-df-container {\n",
              "      display:flex;\n",
              "      flex-wrap:wrap;\n",
              "      gap: 12px;\n",
              "    }\n",
              "\n",
              "    .colab-df-convert {\n",
              "      background-color: #E8F0FE;\n",
              "      border: none;\n",
              "      border-radius: 50%;\n",
              "      cursor: pointer;\n",
              "      display: none;\n",
              "      fill: #1967D2;\n",
              "      height: 32px;\n",
              "      padding: 0 0 0 0;\n",
              "      width: 32px;\n",
              "    }\n",
              "\n",
              "    .colab-df-convert:hover {\n",
              "      background-color: #E2EBFA;\n",
              "      box-shadow: 0px 1px 2px rgba(60, 64, 67, 0.3), 0px 1px 3px 1px rgba(60, 64, 67, 0.15);\n",
              "      fill: #174EA6;\n",
              "    }\n",
              "\n",
              "    [theme=dark] .colab-df-convert {\n",
              "      background-color: #3B4455;\n",
              "      fill: #D2E3FC;\n",
              "    }\n",
              "\n",
              "    [theme=dark] .colab-df-convert:hover {\n",
              "      background-color: #434B5C;\n",
              "      box-shadow: 0px 1px 3px 1px rgba(0, 0, 0, 0.15);\n",
              "      filter: drop-shadow(0px 1px 2px rgba(0, 0, 0, 0.3));\n",
              "      fill: #FFFFFF;\n",
              "    }\n",
              "  </style>\n",
              "\n",
              "      <script>\n",
              "        const buttonEl =\n",
              "          document.querySelector('#df-290af865-8cca-4cc0-9fd8-b239d7d043b2 button.colab-df-convert');\n",
              "        buttonEl.style.display =\n",
              "          google.colab.kernel.accessAllowed ? 'block' : 'none';\n",
              "\n",
              "        async function convertToInteractive(key) {\n",
              "          const element = document.querySelector('#df-290af865-8cca-4cc0-9fd8-b239d7d043b2');\n",
              "          const dataTable =\n",
              "            await google.colab.kernel.invokeFunction('convertToInteractive',\n",
              "                                                     [key], {});\n",
              "          if (!dataTable) return;\n",
              "\n",
              "          const docLinkHtml = 'Like what you see? Visit the ' +\n",
              "            '<a target=\"_blank\" href=https://colab.research.google.com/notebooks/data_table.ipynb>data table notebook</a>'\n",
              "            + ' to learn more about interactive tables.';\n",
              "          element.innerHTML = '';\n",
              "          dataTable['output_type'] = 'display_data';\n",
              "          await google.colab.output.renderOutput(dataTable, element);\n",
              "          const docLink = document.createElement('div');\n",
              "          docLink.innerHTML = docLinkHtml;\n",
              "          element.appendChild(docLink);\n",
              "        }\n",
              "      </script>\n",
              "    </div>\n",
              "  </div>\n",
              "  "
            ]
          },
          "metadata": {},
          "execution_count": 113
        }
      ]
    },
    {
      "cell_type": "code",
      "source": [
        "valid_data[0]"
      ],
      "metadata": {
        "colab": {
          "base_uri": "https://localhost:8080/"
        },
        "id": "kZn60W3x_PRE",
        "outputId": "7efc2399-932d-435a-8599-1085cfdfbcee"
      },
      "id": "kZn60W3x_PRE",
      "execution_count": null,
      "outputs": [
        {
          "output_type": "execute_result",
          "data": {
            "text/plain": [
              "array([   7,  103,    1,  140,    1,  475, 2320,   10,  151,   61,  806,\n",
              "          2,    0,    0,    0,    0,    0,    0,    0,    0,    0,    0,\n",
              "          0,    0,    0,    0,    0,    0,    0,    0,    0,    0,    0,\n",
              "          0,    0,    0,    0,    0,    0,    0,    0,    0,    0,    0,\n",
              "          0,    0,    0,    0,    0,    0,    0,    0,    0,    0,    0,\n",
              "          0,    0,    0,    0,    0,    0,    0,    0,    0,    0,    0,\n",
              "          0,    0,    0,    0,    0,    0,    0,    0,    0,    0,    0,\n",
              "          0,    0,    0], dtype=int32)"
            ]
          },
          "metadata": {},
          "execution_count": 114
        }
      ]
    },
    {
      "cell_type": "code",
      "source": [
        "valid_out[0]"
      ],
      "metadata": {
        "colab": {
          "base_uri": "https://localhost:8080/"
        },
        "id": "ReI-WSBt-v3p",
        "outputId": "f94cf347-3099-40ee-a149-2b6828e1c869"
      },
      "id": "ReI-WSBt-v3p",
      "execution_count": null,
      "outputs": [
        {
          "output_type": "execute_result",
          "data": {
            "text/plain": [
              "array([0., 0., 0., 0., 0., 0., 1., 1., 1., 0., 0., 0., 0., 0., 0., 0., 0.,\n",
              "       0., 0., 0., 0., 0., 0., 0., 0., 0., 0., 0., 0., 0., 0., 0., 0., 0.,\n",
              "       0., 0., 0., 0., 0., 0., 0., 0., 0., 0., 0., 0., 0., 0., 0., 0., 0.,\n",
              "       0., 0., 0., 0., 0., 0., 0., 0., 0., 0., 0., 0., 0., 0., 0., 0., 0.,\n",
              "       0., 0., 0., 0., 0., 0., 0., 0., 0., 0., 0., 0.])"
            ]
          },
          "metadata": {},
          "execution_count": 115
        }
      ]
    },
    {
      "cell_type": "code",
      "execution_count": null,
      "metadata": {
        "colab": {
          "base_uri": "https://localhost:8080/"
        },
        "id": "Bw1i2zLEk_fZ",
        "outputId": "ca79cb1c-eacb-4fe8-8f6a-674665ac2dc7",
        "cellView": "form"
      },
      "outputs": [
        {
          "output_type": "stream",
          "name": "stdout",
          "text": [
            "Training model.\n"
          ]
        }
      ],
      "source": [
        "#@title Convolutional Model\n",
        "#### Defining and Training Model\n",
        "import tensorflow as tf\n",
        "import keras\n",
        "from keras.models import Sequential\n",
        "from keras.layers.convolutional import Convolution1D, MaxPooling1D\n",
        "from keras.layers.core import Activation, Flatten, Dense, Dropout\n",
        "from keras.preprocessing import sequence\n",
        "from keras.optimizers import *\n",
        "from keras.regularizers import l2\n",
        "print('Training model.')\n",
        "\n",
        "model = Sequential()\n",
        "model.add(embedding_layer)\n",
        "model.add(Convolution1D(2048, 5, input_shape=(MAX_SEQ_LENGTH-4, 300)))\n",
        "model.add(Activation(\"tanh\"))\n",
        "model.add(Convolution1D(1024, 3))\n",
        "model.add(Activation(\"tanh\"))\n",
        "model.add(Convolution1D(512, 3))\n",
        "model.add(Activation(\"tanh\"))\n",
        "model.add(Flatten())\n",
        "model.add(Dense(256))\n",
        "model.add(Activation(\"tanh\"))\n",
        "model.add(Dropout(0.4))\n",
        "model.add(Dense(train_out.shape[1], activation='relu'))\n",
        "model.add(Activation(\"softmax\"))\n",
        "\n",
        "optimizer = tf.optimizers.Adam(learning_rate=3e-5)\n",
        "model.compile(loss='categorical_crossentropy',\n",
        "              optimizer=optimizer,\n",
        "              metrics=['acc'])"
      ],
      "id": "Bw1i2zLEk_fZ"
    },
    {
      "cell_type": "code",
      "execution_count": null,
      "metadata": {
        "colab": {
          "base_uri": "https://localhost:8080/"
        },
        "id": "GXlswBN6jQXa",
        "outputId": "82fa5b84-4aff-40ef-ef36-d5e02bfc53af"
      },
      "outputs": [
        {
          "output_type": "stream",
          "name": "stdout",
          "text": [
            "Epoch 1/10\n",
            "352/352 [==============================] - 8s 22ms/step - loss: 8.8539 - acc: 0.1262 - val_loss: 8.2776 - val_acc: 0.2447\n",
            "Epoch 2/10\n",
            "352/352 [==============================] - 8s 21ms/step - loss: 8.4114 - acc: 0.1302 - val_loss: 8.0751 - val_acc: 0.2162\n",
            "Epoch 3/10\n",
            "352/352 [==============================] - 7s 21ms/step - loss: 7.2717 - acc: 0.2881 - val_loss: 7.6859 - val_acc: 0.3001\n",
            "Epoch 4/10\n",
            "352/352 [==============================] - 7s 21ms/step - loss: 6.2416 - acc: 0.4392 - val_loss: 7.9279 - val_acc: 0.3087\n",
            "Epoch 5/10\n",
            "352/352 [==============================] - 7s 21ms/step - loss: 5.9356 - acc: 0.4790 - val_loss: 8.2652 - val_acc: 0.2902\n",
            "Epoch 6/10\n",
            "352/352 [==============================] - 7s 20ms/step - loss: 5.7976 - acc: 0.4925 - val_loss: 8.4696 - val_acc: 0.2945\n",
            "Epoch 7/10\n",
            "352/352 [==============================] - 7s 21ms/step - loss: 5.7451 - acc: 0.5128 - val_loss: 8.4444 - val_acc: 0.2888\n",
            "Epoch 8/10\n",
            "352/352 [==============================] - 8s 22ms/step - loss: 5.6937 - acc: 0.5366 - val_loss: 8.8561 - val_acc: 0.2930\n",
            "Epoch 9/10\n",
            "352/352 [==============================] - 7s 21ms/step - loss: 5.6986 - acc: 0.5388 - val_loss: 8.8531 - val_acc: 0.3001\n",
            "Epoch 10/10\n",
            "352/352 [==============================] - 7s 20ms/step - loss: 5.7636 - acc: 0.5402 - val_loss: 9.2179 - val_acc: 0.3115\n"
          ]
        },
        {
          "output_type": "execute_result",
          "data": {
            "text/plain": [
              "<keras.callbacks.History at 0x7f582c299910>"
            ]
          },
          "metadata": {},
          "execution_count": 117
        }
      ],
      "source": [
        "####  Train Model\n",
        "model.fit(data, train_out,\n",
        "          validation_split=0.0,\n",
        "          validation_data=valid,\n",
        "          batch_size=8,\n",
        "          epochs=10\n",
        "         )"
      ],
      "id": "GXlswBN6jQXa"
    },
    {
      "cell_type": "code",
      "execution_count": null,
      "metadata": {
        "id": "1IuRX-mxOb20",
        "colab": {
          "base_uri": "https://localhost:8080/"
        },
        "cellView": "form",
        "outputId": "5430388c-8935-4813-ffac-2f558a537749"
      },
      "outputs": [
        {
          "output_type": "stream",
          "name": "stdout",
          "text": [
            "Recall: 36.25%,  Precision: 40.15%,  F1 Score: 38.1% \n"
          ]
        }
      ],
      "source": [
        "#@title Calculate Precision and Recall\n",
        "####  Calculate Precision Recall\n",
        "y_pred  = model.predict(valid_data)\n",
        "processed_output = []\n",
        "for i in range(y_pred.shape[0]):\n",
        "    processed_label =[]\n",
        "    for j in range(y_pred.shape[1]):\n",
        "        if y_pred[i][j] > 0.1:\n",
        "            processed_label.append(1)\n",
        "        else:\n",
        "            processed_label.append(0)\n",
        "    #print(\" processed_label \",processed_label)\n",
        "    processed_output.append(processed_label)\n",
        "\n",
        "total_pos = 0.0\n",
        "true_pos = 0.0\n",
        "total_neg = 0.0\n",
        "true_neg = 0.0\n",
        "for i in range(valid_out.shape[0]):\n",
        "    for j in range(valid_out.shape[1]):\n",
        "        if valid_out[i][j] == 1:\n",
        "            total_pos += 1\n",
        "            if processed_output[i][j] ==1:\n",
        "                true_pos +=1\n",
        "        if valid_out[i][j] == 0:\n",
        "            total_neg += 1\n",
        "            if processed_output[i][j] ==0:\n",
        "                true_neg += 1\n",
        "\n",
        "false_pos = total_neg-true_neg\n",
        "false_neg = total_pos-true_pos\n",
        "precision = true_pos/(true_pos+false_pos)\n",
        "recall = true_pos/total_pos\n",
        "\n",
        "f1_score = 2*precision*recall/(precision+recall)\n",
        "print(f\"Recall: {round(recall*100,2)}%, \", f\"Precision: {round(precision*100,2)}%, \", f\"F1 Score: {round(f1_score*100,2)}% \")\n"
      ],
      "id": "1IuRX-mxOb20"
    },
    {
      "cell_type": "markdown",
      "metadata": {
        "id": "DyszxUEAua-o"
      },
      "source": [
        "## Approach 3: Pretrained-model BERT"
      ],
      "id": "DyszxUEAua-o"
    },
    {
      "cell_type": "markdown",
      "source": [
        "The first step is to prepare the input in the format that suite our model. "
      ],
      "metadata": {
        "id": "bH2cfx2ZJ8d1"
      },
      "id": "bH2cfx2ZJ8d1"
    },
    {
      "cell_type": "code",
      "source": [
        "import nltk\n",
        "from nltk.tokenize import word_tokenize\n",
        "import numpy as np\n",
        "\n",
        "nltk.download('stopwords')\n",
        "nltk.download('punkt')\n",
        "\n",
        "\n",
        "train_df2 = train_df.copy()\n",
        "valid_df2 = valid_df.copy()\n",
        "\n",
        "# We'll create token embeddings for aspect terms. \n",
        "# If a word in the review is an aspect term, the embedding of that word is 1.\n",
        "# If a word in the review is not an aspect term, the embedding code is 0.\n",
        "def create_embeddings(df):\n",
        "    review_tokens_list = []\n",
        "    term_encoding_list = []\n",
        "    for i, row in df.iterrows():\n",
        "        review_tokens = word_tokenize(row['Review'])\n",
        "        term = row['Aspect Term'].split(',')\n",
        "\n",
        "        term_encoding = np.zeros(len(review_tokens), dtype=np.int64)\n",
        "        for t in term: \n",
        "            if (len(t.split(\" \")) <= 1):\n",
        "                if t in review_tokens:\n",
        "                    index=review_tokens.index(t)\n",
        "                    term_encoding[index]=1\n",
        "            else: \n",
        "                t_sub = t.split(\" \")\n",
        "                code = 1\n",
        "                for t_s in t_sub:\n",
        "                    if t_s in review_tokens:\n",
        "                        index = review_tokens.index(t_s)\n",
        "                        n = 1 # if we want to encode the second, third word... of the same aspect term to 2,3,and so on, then change this.\n",
        "                              # In this project, we just encode all words in aspect terms to 1\n",
        "                        if code>n: \n",
        "                           code = n\n",
        "                        term_encoding[index]=n\n",
        "                        code+=1\n",
        "        review_tokens_list.append(review_tokens)   \n",
        "        term_encoding_list.append(term_encoding)\n",
        "\n",
        "    df['Review Tokens'] = review_tokens_list\n",
        "    df['Term Encoding'] = term_encoding_list\n",
        "    return df"
      ],
      "metadata": {
        "id": "_UDhs5iq5qkG",
        "colab": {
          "base_uri": "https://localhost:8080/"
        },
        "outputId": "76962f9c-5ad2-4b54-8e48-ff85c3a6c493"
      },
      "id": "_UDhs5iq5qkG",
      "execution_count": null,
      "outputs": [
        {
          "output_type": "stream",
          "name": "stderr",
          "text": [
            "[nltk_data] Downloading package stopwords to /root/nltk_data...\n",
            "[nltk_data]   Package stopwords is already up-to-date!\n",
            "[nltk_data] Downloading package punkt to /root/nltk_data...\n",
            "[nltk_data]   Package punkt is already up-to-date!\n"
          ]
        }
      ]
    },
    {
      "cell_type": "code",
      "source": [
        "train_df2 = create_embeddings(train_df2)\n",
        "valid_df2 = create_embeddings(valid_df2)"
      ],
      "metadata": {
        "id": "CgnyqBggKMS2"
      },
      "id": "CgnyqBggKMS2",
      "execution_count": null,
      "outputs": []
    },
    {
      "cell_type": "code",
      "source": [
        "# The results are in column Term Encoding\n",
        "train_df2.head(3)"
      ],
      "metadata": {
        "colab": {
          "base_uri": "https://localhost:8080/",
          "height": 143
        },
        "id": "x2qGJo8R8ggo",
        "outputId": "c65f8c83-43b1-4999-8dda-a63950bda25d"
      },
      "id": "x2qGJo8R8ggo",
      "execution_count": null,
      "outputs": [
        {
          "output_type": "execute_result",
          "data": {
            "text/plain": [
              "     Review ID                                             Review  \\\n",
              "0  2909_laptop  Have had many higher priced computers crash an...   \n",
              "1  2494_laptop  The big screen allows you to enjoy watching mo...   \n",
              "2  2578_laptop  Additional caveat: the base installation comes...   \n",
              "\n",
              "                  Aspect Term  \\\n",
              "0         memory,speed,priced   \n",
              "1                      screen   \n",
              "2  base installation,software   \n",
              "\n",
              "                                       Review Tokens  \\\n",
              "0  [Have, had, many, higher, priced, computers, c...   \n",
              "1  [The, big, screen, allows, you, to, enjoy, wat...   \n",
              "2  [Additional, caveat, :, the, base, installatio...   \n",
              "\n",
              "                                       Term Encoding  \n",
              "0  [0, 0, 0, 0, 1, 0, 0, 0, 0, 0, 0, 0, 0, 0, 0, ...  \n",
              "1         [0, 0, 1, 0, 0, 0, 0, 0, 0, 0, 0, 0, 0, 0]  \n",
              "2  [0, 0, 0, 0, 1, 1, 0, 0, 0, 0, 1, 0, 0, 0, 0, ...  "
            ],
            "text/html": [
              "\n",
              "  <div id=\"df-34cc4cc7-b3b1-4120-a485-3201d284a85f\">\n",
              "    <div class=\"colab-df-container\">\n",
              "      <div>\n",
              "<style scoped>\n",
              "    .dataframe tbody tr th:only-of-type {\n",
              "        vertical-align: middle;\n",
              "    }\n",
              "\n",
              "    .dataframe tbody tr th {\n",
              "        vertical-align: top;\n",
              "    }\n",
              "\n",
              "    .dataframe thead th {\n",
              "        text-align: right;\n",
              "    }\n",
              "</style>\n",
              "<table border=\"1\" class=\"dataframe\">\n",
              "  <thead>\n",
              "    <tr style=\"text-align: right;\">\n",
              "      <th></th>\n",
              "      <th>Review ID</th>\n",
              "      <th>Review</th>\n",
              "      <th>Aspect Term</th>\n",
              "      <th>Review Tokens</th>\n",
              "      <th>Term Encoding</th>\n",
              "    </tr>\n",
              "  </thead>\n",
              "  <tbody>\n",
              "    <tr>\n",
              "      <th>0</th>\n",
              "      <td>2909_laptop</td>\n",
              "      <td>Have had many higher priced computers crash an...</td>\n",
              "      <td>memory,speed,priced</td>\n",
              "      <td>[Have, had, many, higher, priced, computers, c...</td>\n",
              "      <td>[0, 0, 0, 0, 1, 0, 0, 0, 0, 0, 0, 0, 0, 0, 0, ...</td>\n",
              "    </tr>\n",
              "    <tr>\n",
              "      <th>1</th>\n",
              "      <td>2494_laptop</td>\n",
              "      <td>The big screen allows you to enjoy watching mo...</td>\n",
              "      <td>screen</td>\n",
              "      <td>[The, big, screen, allows, you, to, enjoy, wat...</td>\n",
              "      <td>[0, 0, 1, 0, 0, 0, 0, 0, 0, 0, 0, 0, 0, 0]</td>\n",
              "    </tr>\n",
              "    <tr>\n",
              "      <th>2</th>\n",
              "      <td>2578_laptop</td>\n",
              "      <td>Additional caveat: the base installation comes...</td>\n",
              "      <td>base installation,software</td>\n",
              "      <td>[Additional, caveat, :, the, base, installatio...</td>\n",
              "      <td>[0, 0, 0, 0, 1, 1, 0, 0, 0, 0, 1, 0, 0, 0, 0, ...</td>\n",
              "    </tr>\n",
              "  </tbody>\n",
              "</table>\n",
              "</div>\n",
              "      <button class=\"colab-df-convert\" onclick=\"convertToInteractive('df-34cc4cc7-b3b1-4120-a485-3201d284a85f')\"\n",
              "              title=\"Convert this dataframe to an interactive table.\"\n",
              "              style=\"display:none;\">\n",
              "        \n",
              "  <svg xmlns=\"http://www.w3.org/2000/svg\" height=\"24px\"viewBox=\"0 0 24 24\"\n",
              "       width=\"24px\">\n",
              "    <path d=\"M0 0h24v24H0V0z\" fill=\"none\"/>\n",
              "    <path d=\"M18.56 5.44l.94 2.06.94-2.06 2.06-.94-2.06-.94-.94-2.06-.94 2.06-2.06.94zm-11 1L8.5 8.5l.94-2.06 2.06-.94-2.06-.94L8.5 2.5l-.94 2.06-2.06.94zm10 10l.94 2.06.94-2.06 2.06-.94-2.06-.94-.94-2.06-.94 2.06-2.06.94z\"/><path d=\"M17.41 7.96l-1.37-1.37c-.4-.4-.92-.59-1.43-.59-.52 0-1.04.2-1.43.59L10.3 9.45l-7.72 7.72c-.78.78-.78 2.05 0 2.83L4 21.41c.39.39.9.59 1.41.59.51 0 1.02-.2 1.41-.59l7.78-7.78 2.81-2.81c.8-.78.8-2.07 0-2.86zM5.41 20L4 18.59l7.72-7.72 1.47 1.35L5.41 20z\"/>\n",
              "  </svg>\n",
              "      </button>\n",
              "      \n",
              "  <style>\n",
              "    .colab-df-container {\n",
              "      display:flex;\n",
              "      flex-wrap:wrap;\n",
              "      gap: 12px;\n",
              "    }\n",
              "\n",
              "    .colab-df-convert {\n",
              "      background-color: #E8F0FE;\n",
              "      border: none;\n",
              "      border-radius: 50%;\n",
              "      cursor: pointer;\n",
              "      display: none;\n",
              "      fill: #1967D2;\n",
              "      height: 32px;\n",
              "      padding: 0 0 0 0;\n",
              "      width: 32px;\n",
              "    }\n",
              "\n",
              "    .colab-df-convert:hover {\n",
              "      background-color: #E2EBFA;\n",
              "      box-shadow: 0px 1px 2px rgba(60, 64, 67, 0.3), 0px 1px 3px 1px rgba(60, 64, 67, 0.15);\n",
              "      fill: #174EA6;\n",
              "    }\n",
              "\n",
              "    [theme=dark] .colab-df-convert {\n",
              "      background-color: #3B4455;\n",
              "      fill: #D2E3FC;\n",
              "    }\n",
              "\n",
              "    [theme=dark] .colab-df-convert:hover {\n",
              "      background-color: #434B5C;\n",
              "      box-shadow: 0px 1px 3px 1px rgba(0, 0, 0, 0.15);\n",
              "      filter: drop-shadow(0px 1px 2px rgba(0, 0, 0, 0.3));\n",
              "      fill: #FFFFFF;\n",
              "    }\n",
              "  </style>\n",
              "\n",
              "      <script>\n",
              "        const buttonEl =\n",
              "          document.querySelector('#df-34cc4cc7-b3b1-4120-a485-3201d284a85f button.colab-df-convert');\n",
              "        buttonEl.style.display =\n",
              "          google.colab.kernel.accessAllowed ? 'block' : 'none';\n",
              "\n",
              "        async function convertToInteractive(key) {\n",
              "          const element = document.querySelector('#df-34cc4cc7-b3b1-4120-a485-3201d284a85f');\n",
              "          const dataTable =\n",
              "            await google.colab.kernel.invokeFunction('convertToInteractive',\n",
              "                                                     [key], {});\n",
              "          if (!dataTable) return;\n",
              "\n",
              "          const docLinkHtml = 'Like what you see? Visit the ' +\n",
              "            '<a target=\"_blank\" href=https://colab.research.google.com/notebooks/data_table.ipynb>data table notebook</a>'\n",
              "            + ' to learn more about interactive tables.';\n",
              "          element.innerHTML = '';\n",
              "          dataTable['output_type'] = 'display_data';\n",
              "          await google.colab.output.renderOutput(dataTable, element);\n",
              "          const docLink = document.createElement('div');\n",
              "          docLink.innerHTML = docLinkHtml;\n",
              "          element.appendChild(docLink);\n",
              "        }\n",
              "      </script>\n",
              "    </div>\n",
              "  </div>\n",
              "  "
            ]
          },
          "metadata": {},
          "execution_count": 149
        }
      ]
    },
    {
      "cell_type": "code",
      "source": [
        "valid_df2.head(3)"
      ],
      "metadata": {
        "colab": {
          "base_uri": "https://localhost:8080/",
          "height": 143
        },
        "id": "FP2vcN8oKvkH",
        "outputId": "cd984faa-11b9-42f4-d9e7-941357a9d554"
      },
      "id": "FP2vcN8oKvkH",
      "execution_count": null,
      "outputs": [
        {
          "output_type": "execute_result",
          "data": {
            "text/plain": [
              "     Review ID                                             Review  \\\n",
              "0  2568_laptop  I love the way the entire suite of software wo...   \n",
              "1   295_laptop  The speed is incredible and I am more than sat...   \n",
              "2  2980_laptop  I can barely use any usb devices because they ...   \n",
              "\n",
              "         Aspect Term                                      Review Tokens  \\\n",
              "0  suite of software  [I, love, the, way, the, entire, suite, of, so...   \n",
              "1              speed  [The, speed, is, incredible, and, I, am, more,...   \n",
              "2        usb devices  [I, can, barely, use, any, usb, devices, becau...   \n",
              "\n",
              "                                   Term Encoding  \n",
              "0           [0, 0, 0, 0, 0, 0, 1, 1, 1, 0, 0, 0]  \n",
              "1              [0, 1, 0, 0, 0, 0, 0, 0, 0, 0, 0]  \n",
              "2  [0, 0, 0, 0, 0, 1, 1, 0, 0, 0, 0, 0, 0, 0, 0]  "
            ],
            "text/html": [
              "\n",
              "  <div id=\"df-08ddd635-c223-438e-9c38-fa6cd49301fc\">\n",
              "    <div class=\"colab-df-container\">\n",
              "      <div>\n",
              "<style scoped>\n",
              "    .dataframe tbody tr th:only-of-type {\n",
              "        vertical-align: middle;\n",
              "    }\n",
              "\n",
              "    .dataframe tbody tr th {\n",
              "        vertical-align: top;\n",
              "    }\n",
              "\n",
              "    .dataframe thead th {\n",
              "        text-align: right;\n",
              "    }\n",
              "</style>\n",
              "<table border=\"1\" class=\"dataframe\">\n",
              "  <thead>\n",
              "    <tr style=\"text-align: right;\">\n",
              "      <th></th>\n",
              "      <th>Review ID</th>\n",
              "      <th>Review</th>\n",
              "      <th>Aspect Term</th>\n",
              "      <th>Review Tokens</th>\n",
              "      <th>Term Encoding</th>\n",
              "    </tr>\n",
              "  </thead>\n",
              "  <tbody>\n",
              "    <tr>\n",
              "      <th>0</th>\n",
              "      <td>2568_laptop</td>\n",
              "      <td>I love the way the entire suite of software wo...</td>\n",
              "      <td>suite of software</td>\n",
              "      <td>[I, love, the, way, the, entire, suite, of, so...</td>\n",
              "      <td>[0, 0, 0, 0, 0, 0, 1, 1, 1, 0, 0, 0]</td>\n",
              "    </tr>\n",
              "    <tr>\n",
              "      <th>1</th>\n",
              "      <td>295_laptop</td>\n",
              "      <td>The speed is incredible and I am more than sat...</td>\n",
              "      <td>speed</td>\n",
              "      <td>[The, speed, is, incredible, and, I, am, more,...</td>\n",
              "      <td>[0, 1, 0, 0, 0, 0, 0, 0, 0, 0, 0]</td>\n",
              "    </tr>\n",
              "    <tr>\n",
              "      <th>2</th>\n",
              "      <td>2980_laptop</td>\n",
              "      <td>I can barely use any usb devices because they ...</td>\n",
              "      <td>usb devices</td>\n",
              "      <td>[I, can, barely, use, any, usb, devices, becau...</td>\n",
              "      <td>[0, 0, 0, 0, 0, 1, 1, 0, 0, 0, 0, 0, 0, 0, 0]</td>\n",
              "    </tr>\n",
              "  </tbody>\n",
              "</table>\n",
              "</div>\n",
              "      <button class=\"colab-df-convert\" onclick=\"convertToInteractive('df-08ddd635-c223-438e-9c38-fa6cd49301fc')\"\n",
              "              title=\"Convert this dataframe to an interactive table.\"\n",
              "              style=\"display:none;\">\n",
              "        \n",
              "  <svg xmlns=\"http://www.w3.org/2000/svg\" height=\"24px\"viewBox=\"0 0 24 24\"\n",
              "       width=\"24px\">\n",
              "    <path d=\"M0 0h24v24H0V0z\" fill=\"none\"/>\n",
              "    <path d=\"M18.56 5.44l.94 2.06.94-2.06 2.06-.94-2.06-.94-.94-2.06-.94 2.06-2.06.94zm-11 1L8.5 8.5l.94-2.06 2.06-.94-2.06-.94L8.5 2.5l-.94 2.06-2.06.94zm10 10l.94 2.06.94-2.06 2.06-.94-2.06-.94-.94-2.06-.94 2.06-2.06.94z\"/><path d=\"M17.41 7.96l-1.37-1.37c-.4-.4-.92-.59-1.43-.59-.52 0-1.04.2-1.43.59L10.3 9.45l-7.72 7.72c-.78.78-.78 2.05 0 2.83L4 21.41c.39.39.9.59 1.41.59.51 0 1.02-.2 1.41-.59l7.78-7.78 2.81-2.81c.8-.78.8-2.07 0-2.86zM5.41 20L4 18.59l7.72-7.72 1.47 1.35L5.41 20z\"/>\n",
              "  </svg>\n",
              "      </button>\n",
              "      \n",
              "  <style>\n",
              "    .colab-df-container {\n",
              "      display:flex;\n",
              "      flex-wrap:wrap;\n",
              "      gap: 12px;\n",
              "    }\n",
              "\n",
              "    .colab-df-convert {\n",
              "      background-color: #E8F0FE;\n",
              "      border: none;\n",
              "      border-radius: 50%;\n",
              "      cursor: pointer;\n",
              "      display: none;\n",
              "      fill: #1967D2;\n",
              "      height: 32px;\n",
              "      padding: 0 0 0 0;\n",
              "      width: 32px;\n",
              "    }\n",
              "\n",
              "    .colab-df-convert:hover {\n",
              "      background-color: #E2EBFA;\n",
              "      box-shadow: 0px 1px 2px rgba(60, 64, 67, 0.3), 0px 1px 3px 1px rgba(60, 64, 67, 0.15);\n",
              "      fill: #174EA6;\n",
              "    }\n",
              "\n",
              "    [theme=dark] .colab-df-convert {\n",
              "      background-color: #3B4455;\n",
              "      fill: #D2E3FC;\n",
              "    }\n",
              "\n",
              "    [theme=dark] .colab-df-convert:hover {\n",
              "      background-color: #434B5C;\n",
              "      box-shadow: 0px 1px 3px 1px rgba(0, 0, 0, 0.15);\n",
              "      filter: drop-shadow(0px 1px 2px rgba(0, 0, 0, 0.3));\n",
              "      fill: #FFFFFF;\n",
              "    }\n",
              "  </style>\n",
              "\n",
              "      <script>\n",
              "        const buttonEl =\n",
              "          document.querySelector('#df-08ddd635-c223-438e-9c38-fa6cd49301fc button.colab-df-convert');\n",
              "        buttonEl.style.display =\n",
              "          google.colab.kernel.accessAllowed ? 'block' : 'none';\n",
              "\n",
              "        async function convertToInteractive(key) {\n",
              "          const element = document.querySelector('#df-08ddd635-c223-438e-9c38-fa6cd49301fc');\n",
              "          const dataTable =\n",
              "            await google.colab.kernel.invokeFunction('convertToInteractive',\n",
              "                                                     [key], {});\n",
              "          if (!dataTable) return;\n",
              "\n",
              "          const docLinkHtml = 'Like what you see? Visit the ' +\n",
              "            '<a target=\"_blank\" href=https://colab.research.google.com/notebooks/data_table.ipynb>data table notebook</a>'\n",
              "            + ' to learn more about interactive tables.';\n",
              "          element.innerHTML = '';\n",
              "          dataTable['output_type'] = 'display_data';\n",
              "          await google.colab.output.renderOutput(dataTable, element);\n",
              "          const docLink = document.createElement('div');\n",
              "          docLink.innerHTML = docLinkHtml;\n",
              "          element.appendChild(docLink);\n",
              "        }\n",
              "      </script>\n",
              "    </div>\n",
              "  </div>\n",
              "  "
            ]
          },
          "metadata": {},
          "execution_count": 150
        }
      ]
    },
    {
      "cell_type": "code",
      "source": [
        "# This function will collect data into tensors\n",
        "from torch.utils.data import Dataset\n",
        "class dataset_ATM(Dataset):\n",
        "    def __init__(self, df, tokenizer):\n",
        "        self.df = df\n",
        "        self.tokenizer = tokenizer\n",
        "\n",
        "    def __getitem__(self, idx):\n",
        "        tokens, tags = self.df.loc[idx,['Review Tokens','Term Encoding']].values\n",
        "\n",
        "        bert_tokens = []\n",
        "        bert_tags = []\n",
        "        for i in range(len(tokens)):\n",
        "            t = self.tokenizer.tokenize(tokens[i])\n",
        "            bert_tokens += t\n",
        "            bert_tags += [int(tags[i])]*len(t)\n",
        "        \n",
        "        bert_ids = self.tokenizer.convert_tokens_to_ids(bert_tokens)\n",
        "\n",
        "        ids_tensor = torch.tensor(bert_ids)\n",
        "        tags_tensor = torch.tensor(bert_tags)\n",
        "\n",
        "        return bert_tokens, ids_tensor, tags_tensor\n",
        "\n",
        "    def __len__(self):\n",
        "        return len(self.df)"
      ],
      "metadata": {
        "id": "10XcV2FJKfJB"
      },
      "id": "10XcV2FJKfJB",
      "execution_count": null,
      "outputs": []
    },
    {
      "cell_type": "code",
      "source": [
        "#### Install transformer if needed\n",
        "!pip install transformers"
      ],
      "metadata": {
        "colab": {
          "base_uri": "https://localhost:8080/"
        },
        "id": "vWdHM6V70g2d",
        "outputId": "1bf24704-6a34-4414-c7f4-e3fb06c7eaa5"
      },
      "id": "vWdHM6V70g2d",
      "execution_count": null,
      "outputs": [
        {
          "output_type": "stream",
          "name": "stdout",
          "text": [
            "Looking in indexes: https://pypi.org/simple, https://us-python.pkg.dev/colab-wheels/public/simple/\n",
            "Requirement already satisfied: transformers in /usr/local/lib/python3.7/dist-packages (4.21.1)\n",
            "Requirement already satisfied: regex!=2019.12.17 in /usr/local/lib/python3.7/dist-packages (from transformers) (2022.6.2)\n",
            "Requirement already satisfied: pyyaml>=5.1 in /usr/local/lib/python3.7/dist-packages (from transformers) (6.0)\n",
            "Requirement already satisfied: importlib-metadata in /usr/local/lib/python3.7/dist-packages (from transformers) (4.12.0)\n",
            "Requirement already satisfied: filelock in /usr/local/lib/python3.7/dist-packages (from transformers) (3.8.0)\n",
            "Requirement already satisfied: tqdm>=4.27 in /usr/local/lib/python3.7/dist-packages (from transformers) (4.64.0)\n",
            "Requirement already satisfied: requests in /usr/local/lib/python3.7/dist-packages (from transformers) (2.23.0)\n",
            "Requirement already satisfied: tokenizers!=0.11.3,<0.13,>=0.11.1 in /usr/local/lib/python3.7/dist-packages (from transformers) (0.12.1)\n",
            "Requirement already satisfied: huggingface-hub<1.0,>=0.1.0 in /usr/local/lib/python3.7/dist-packages (from transformers) (0.8.1)\n",
            "Requirement already satisfied: numpy>=1.17 in /usr/local/lib/python3.7/dist-packages (from transformers) (1.21.6)\n",
            "Requirement already satisfied: packaging>=20.0 in /usr/local/lib/python3.7/dist-packages (from transformers) (21.3)\n",
            "Requirement already satisfied: typing-extensions>=3.7.4.3 in /usr/local/lib/python3.7/dist-packages (from huggingface-hub<1.0,>=0.1.0->transformers) (4.1.1)\n",
            "Requirement already satisfied: pyparsing!=3.0.5,>=2.0.2 in /usr/local/lib/python3.7/dist-packages (from packaging>=20.0->transformers) (3.0.9)\n",
            "Requirement already satisfied: zipp>=0.5 in /usr/local/lib/python3.7/dist-packages (from importlib-metadata->transformers) (3.8.1)\n",
            "Requirement already satisfied: certifi>=2017.4.17 in /usr/local/lib/python3.7/dist-packages (from requests->transformers) (2022.6.15)\n",
            "Requirement already satisfied: chardet<4,>=3.0.2 in /usr/local/lib/python3.7/dist-packages (from requests->transformers) (3.0.4)\n",
            "Requirement already satisfied: urllib3!=1.25.0,!=1.25.1,<1.26,>=1.21.1 in /usr/local/lib/python3.7/dist-packages (from requests->transformers) (1.24.3)\n",
            "Requirement already satisfied: idna<3,>=2.5 in /usr/local/lib/python3.7/dist-packages (from requests->transformers) (2.10)\n"
          ]
        }
      ]
    },
    {
      "cell_type": "code",
      "source": [
        "from transformers import BertTokenizer, BertModel \n",
        "pretrain_model_name =\"bert-base-uncased\"\n",
        "#We can explore more pretrained models if we would like.\n",
        "#pretrain_model_name =\"xlm-roberta-base\"\n",
        "#pretrain_model_name =\"bert-large-uncased\"\n",
        "tokenizer = BertTokenizer.from_pretrained(pretrain_model_name)\n",
        "\n",
        "train_tensor = dataset_ATM(train_df2, tokenizer)\n",
        "valid_tensor = dataset_ATM(valid_df2, tokenizer)"
      ],
      "metadata": {
        "id": "y-4StZa3KiAi"
      },
      "id": "y-4StZa3KiAi",
      "execution_count": null,
      "outputs": []
    },
    {
      "cell_type": "code",
      "source": [
        "# Create data loader used to load data into our model\n",
        "def create_mini_batch(samples):\n",
        "    ids_tensors = [s[1] for s in samples]\n",
        "    ids_tensors = pad_sequence(ids_tensors, batch_first=True)\n",
        "\n",
        "    tags_tensors = [s[2] for s in samples]\n",
        "    tags_tensors = pad_sequence(tags_tensors, batch_first=True)\n",
        "    \n",
        "    masks_tensors = torch.zeros(ids_tensors.shape, dtype=torch.long)\n",
        "    masks_tensors = masks_tensors.masked_fill(ids_tensors != 0, 1)\n",
        "    \n",
        "    return ids_tensors, tags_tensors, masks_tensors\n",
        "from torch.utils.data import DataLoader\n",
        "train_loader = DataLoader(train_tensor, batch_size=32, collate_fn=create_mini_batch, shuffle = True)\n",
        "test_loader = DataLoader(valid_tensor, batch_size=valid_df2.shape[0], collate_fn=create_mini_batch, shuffle = True)"
      ],
      "metadata": {
        "id": "O62PzYXGL6fn"
      },
      "id": "O62PzYXGL6fn",
      "execution_count": null,
      "outputs": []
    },
    {
      "cell_type": "code",
      "source": [
        "import torch\n",
        "from torch.nn.utils.rnn import pad_sequence\n",
        "import pandas as pd\n",
        "import time\n",
        "import numpy as np\n",
        "from sklearn.metrics import classification_report\n",
        "from sklearn.metrics import confusion_matrix"
      ],
      "metadata": {
        "id": "Utsikq-65qxH"
      },
      "id": "Utsikq-65qxH",
      "execution_count": null,
      "outputs": []
    },
    {
      "cell_type": "code",
      "source": [
        "#@title Utility functions\n",
        "def evl_time(t):\n",
        "    min, sec= divmod(t, 60)\n",
        "    hr, min = divmod(min, 60)\n",
        "    return int(hr), int(min), int(sec)\n",
        "\n",
        "def load_model(model, path):\n",
        "    model.load_state_dict(torch.load(path), strict=False)\n",
        "    return model\n",
        "    \n",
        "def save_model(model, name):\n",
        "    torch.save(model.state_dict(), name)"
      ],
      "metadata": {
        "id": "sBMyXMpvBUoq"
      },
      "id": "sBMyXMpvBUoq",
      "execution_count": null,
      "outputs": []
    },
    {
      "cell_type": "code",
      "source": [
        "# BERT Model\n",
        "class bert_ATE(torch.nn.Module):\n",
        "    def __init__(self, pretrain_model):\n",
        "        super(bert_ATE, self).__init__()\n",
        "        self.bert = BertModel.from_pretrained(pretrain_model,return_dict=False)\n",
        "        self.linear = torch.nn.Linear(self.bert.config.hidden_size, 2) #2 is the number of classes\n",
        "        self.loss_fn = torch.nn.CrossEntropyLoss()\n",
        "\n",
        "    def forward(self, ids_tensors, tags_tensors, masks_tensors):\n",
        "        bert_outputs,_ = self.bert(input_ids=ids_tensors, attention_mask=masks_tensors)\n",
        "        linear_outputs = self.linear(bert_outputs)\n",
        "\n",
        "        if tags_tensors is not None:\n",
        "            tags_tensors = tags_tensors.view(-1)\n",
        "            linear_outputs = linear_outputs.view(-1,2) #2 is the number of classes\n",
        "            loss = self.loss_fn(linear_outputs, tags_tensors)\n",
        "            return loss\n",
        "        else:\n",
        "            return linear_outputs\n",
        "\n",
        "DEVICE = torch.device(\"cuda:0\" if torch.cuda.is_available() else \"cpu\")\n",
        "model_ATE = bert_ATE(pretrain_model_name).to(DEVICE)"
      ],
      "metadata": {
        "colab": {
          "base_uri": "https://localhost:8080/"
        },
        "id": "TDJ43ytEdB5B",
        "outputId": "b2e6ff24-0754-4c19-cc0c-56f87f125909"
      },
      "id": "TDJ43ytEdB5B",
      "execution_count": null,
      "outputs": [
        {
          "output_type": "stream",
          "name": "stderr",
          "text": [
            "Some weights of the model checkpoint at bert-base-uncased were not used when initializing BertModel: ['cls.predictions.bias', 'cls.predictions.transform.LayerNorm.weight', 'cls.predictions.transform.dense.bias', 'cls.seq_relationship.bias', 'cls.predictions.transform.LayerNorm.bias', 'cls.seq_relationship.weight', 'cls.predictions.decoder.weight', 'cls.predictions.transform.dense.weight']\n",
            "- This IS expected if you are initializing BertModel from the checkpoint of a model trained on another task or with another architecture (e.g. initializing a BertForSequenceClassification model from a BertForPreTraining model).\n",
            "- This IS NOT expected if you are initializing BertModel from the checkpoint of a model that you expect to be exactly identical (initializing a BertForSequenceClassification model from a BertForSequenceClassification model).\n"
          ]
        }
      ]
    },
    {
      "cell_type": "code",
      "source": [
        "# Train model\n",
        "def train_model_ATE(loader, epochs, lr):\n",
        "    all_data = len(loader)\n",
        "    \n",
        "    optimizer_ATE = torch.optim.Adam(model_ATE.parameters(), lr=lr)\n",
        "    for epoch in range(epochs):\n",
        "        finish_data = 0\n",
        "        losses = []\n",
        "        current_times = []\n",
        "        correct_predictions = 0\n",
        "        \n",
        "        for data in loader:\n",
        "            t0 = time.time()\n",
        "            ids_tensors, tags_tensors, masks_tensors = data\n",
        "            ids_tensors = ids_tensors.to(DEVICE)\n",
        "            tags_tensors = tags_tensors.to(DEVICE)\n",
        "            masks_tensors = masks_tensors.to(DEVICE)\n",
        "\n",
        "            loss = model_ATE(ids_tensors=ids_tensors, tags_tensors=tags_tensors, masks_tensors=masks_tensors)\n",
        "            losses.append(loss.item())\n",
        "            loss.backward()\n",
        "            optimizer_ATE.step()\n",
        "            optimizer_ATE.zero_grad()\n",
        "\n",
        "            finish_data += 1\n",
        "            current_times.append(round(time.time()-t0,3))\n",
        "            current = np.mean(current_times)\n",
        "            hr, min, sec = evl_time(current*(all_data-finish_data) + current*all_data*(epochs-epoch-1))\n",
        "            print('epoch:', epoch, \" batch:\", finish_data, \"/\" , all_data, \" loss:\", np.mean(losses), \" hr:\", hr, \" min:\", min,\" sec:\", sec)         "
      ],
      "metadata": {
        "id": "fusT8KZWLqy1"
      },
      "id": "fusT8KZWLqy1",
      "execution_count": null,
      "outputs": []
    },
    {
      "cell_type": "code",
      "source": [
        "%time train_model_ATE(train_loader, epochs=3, lr=3e-5)"
      ],
      "metadata": {
        "id": "Abp-770v5q95",
        "colab": {
          "base_uri": "https://localhost:8080/"
        },
        "outputId": "3954859d-e782-40c7-a681-1c88195e0745"
      },
      "id": "Abp-770v5q95",
      "execution_count": null,
      "outputs": [
        {
          "output_type": "stream",
          "name": "stdout",
          "text": [
            "epoch: 0  batch: 1 / 88  loss: 0.538198709487915  hr: 0  min: 1  sec: 26\n",
            "epoch: 0  batch: 2 / 88  loss: 0.4057324230670929  hr: 0  min: 1  sec: 15\n",
            "epoch: 0  batch: 3 / 88  loss: 0.3300570597251256  hr: 0  min: 1  sec: 24\n",
            "epoch: 0  batch: 4 / 88  loss: 0.32493847236037254  hr: 0  min: 1  sec: 17\n",
            "epoch: 0  batch: 5 / 88  loss: 0.28296603858470915  hr: 0  min: 1  sec: 21\n",
            "epoch: 0  batch: 6 / 88  loss: 0.27119701852401096  hr: 0  min: 1  sec: 19\n",
            "epoch: 0  batch: 7 / 88  loss: 0.26740674461637226  hr: 0  min: 1  sec: 16\n",
            "epoch: 0  batch: 8 / 88  loss: 0.26241897232830524  hr: 0  min: 1  sec: 13\n",
            "epoch: 0  batch: 9 / 88  loss: 0.24742806123362648  hr: 0  min: 1  sec: 17\n",
            "epoch: 0  batch: 10 / 88  loss: 0.24576722532510759  hr: 0  min: 1  sec: 13\n",
            "epoch: 0  batch: 11 / 88  loss: 0.23410021987828342  hr: 0  min: 1  sec: 15\n",
            "epoch: 0  batch: 12 / 88  loss: 0.22400179939965406  hr: 0  min: 1  sec: 15\n",
            "epoch: 0  batch: 13 / 88  loss: 0.22298545161118874  hr: 0  min: 1  sec: 13\n",
            "epoch: 0  batch: 14 / 88  loss: 0.2148710068847452  hr: 0  min: 1  sec: 16\n",
            "epoch: 0  batch: 15 / 88  loss: 0.20913031349579495  hr: 0  min: 1  sec: 16\n",
            "epoch: 0  batch: 16 / 88  loss: 0.20288893207907677  hr: 0  min: 1  sec: 16\n",
            "epoch: 0  batch: 17 / 88  loss: 0.19572385093745062  hr: 0  min: 1  sec: 18\n",
            "epoch: 0  batch: 18 / 88  loss: 0.19721025394068825  hr: 0  min: 1  sec: 15\n",
            "epoch: 0  batch: 19 / 88  loss: 0.19512373052145304  hr: 0  min: 1  sec: 14\n",
            "epoch: 0  batch: 20 / 88  loss: 0.1899689145386219  hr: 0  min: 1  sec: 14\n",
            "epoch: 0  batch: 21 / 88  loss: 0.18689453247047605  hr: 0  min: 1  sec: 14\n",
            "epoch: 0  batch: 22 / 88  loss: 0.1835856129499999  hr: 0  min: 1  sec: 13\n",
            "epoch: 0  batch: 23 / 88  loss: 0.180359812858312  hr: 0  min: 1  sec: 13\n",
            "epoch: 0  batch: 24 / 88  loss: 0.1788200130686164  hr: 0  min: 1  sec: 12\n",
            "epoch: 0  batch: 25 / 88  loss: 0.17720698148012162  hr: 0  min: 1  sec: 11\n",
            "epoch: 0  batch: 26 / 88  loss: 0.17458318861631247  hr: 0  min: 1  sec: 10\n",
            "epoch: 0  batch: 27 / 88  loss: 0.17261492405776624  hr: 0  min: 1  sec: 10\n",
            "epoch: 0  batch: 28 / 88  loss: 0.16993750232670987  hr: 0  min: 1  sec: 9\n",
            "epoch: 0  batch: 29 / 88  loss: 0.1673647823004887  hr: 0  min: 1  sec: 9\n",
            "epoch: 0  batch: 30 / 88  loss: 0.1662320911884308  hr: 0  min: 1  sec: 8\n",
            "epoch: 0  batch: 31 / 88  loss: 0.16358713541300066  hr: 0  min: 1  sec: 7\n",
            "epoch: 0  batch: 32 / 88  loss: 0.16156777599826455  hr: 0  min: 1  sec: 7\n",
            "epoch: 0  batch: 33 / 88  loss: 0.1588184695803758  hr: 0  min: 1  sec: 7\n",
            "epoch: 0  batch: 34 / 88  loss: 0.15767647216425223  hr: 0  min: 1  sec: 7\n",
            "epoch: 0  batch: 35 / 88  loss: 0.15544884971209935  hr: 0  min: 1  sec: 7\n",
            "epoch: 0  batch: 36 / 88  loss: 0.15327388751837942  hr: 0  min: 1  sec: 6\n",
            "epoch: 0  batch: 37 / 88  loss: 0.15120570583117976  hr: 0  min: 1  sec: 6\n",
            "epoch: 0  batch: 38 / 88  loss: 0.15023924273095632  hr: 0  min: 1  sec: 5\n",
            "epoch: 0  batch: 39 / 88  loss: 0.14806673561151212  hr: 0  min: 1  sec: 5\n",
            "epoch: 0  batch: 40 / 88  loss: 0.14634527154266835  hr: 0  min: 1  sec: 4\n",
            "epoch: 0  batch: 41 / 88  loss: 0.14446209970770812  hr: 0  min: 1  sec: 4\n",
            "epoch: 0  batch: 42 / 88  loss: 0.14352881872937792  hr: 0  min: 1  sec: 3\n",
            "epoch: 0  batch: 43 / 88  loss: 0.14168492687302967  hr: 0  min: 1  sec: 3\n",
            "epoch: 0  batch: 44 / 88  loss: 0.13960174098610878  hr: 0  min: 1  sec: 3\n",
            "epoch: 0  batch: 45 / 88  loss: 0.1380821438299285  hr: 0  min: 1  sec: 3\n",
            "epoch: 0  batch: 46 / 88  loss: 0.13623434637227785  hr: 0  min: 1  sec: 3\n",
            "epoch: 0  batch: 47 / 88  loss: 0.13482942519352792  hr: 0  min: 1  sec: 3\n",
            "epoch: 0  batch: 48 / 88  loss: 0.13343173552614948  hr: 0  min: 1  sec: 3\n",
            "epoch: 0  batch: 49 / 88  loss: 0.13294775244228693  hr: 0  min: 1  sec: 2\n",
            "epoch: 0  batch: 50 / 88  loss: 0.13220109544694425  hr: 0  min: 1  sec: 2\n",
            "epoch: 0  batch: 51 / 88  loss: 0.13058598032769034  hr: 0  min: 1  sec: 2\n",
            "epoch: 0  batch: 52 / 88  loss: 0.1289580978023318  hr: 0  min: 1  sec: 1\n",
            "epoch: 0  batch: 53 / 88  loss: 0.12779056878303582  hr: 0  min: 1  sec: 1\n",
            "epoch: 0  batch: 54 / 88  loss: 0.12705221047831905  hr: 0  min: 1  sec: 1\n",
            "epoch: 0  batch: 55 / 88  loss: 0.12561700648882174  hr: 0  min: 1  sec: 0\n",
            "epoch: 0  batch: 56 / 88  loss: 0.12486833979242615  hr: 0  min: 1  sec: 0\n",
            "epoch: 0  batch: 57 / 88  loss: 0.12356732354352348  hr: 0  min: 0  sec: 59\n",
            "epoch: 0  batch: 58 / 88  loss: 0.12249520433873966  hr: 0  min: 0  sec: 59\n",
            "epoch: 0  batch: 59 / 88  loss: 0.1220771261190964  hr: 0  min: 0  sec: 58\n",
            "epoch: 0  batch: 60 / 88  loss: 0.12083619566013416  hr: 0  min: 0  sec: 58\n",
            "epoch: 0  batch: 61 / 88  loss: 0.11965258853113064  hr: 0  min: 0  sec: 58\n",
            "epoch: 0  batch: 62 / 88  loss: 0.11910548547823582  hr: 0  min: 0  sec: 58\n",
            "epoch: 0  batch: 63 / 88  loss: 0.11886390552870811  hr: 0  min: 0  sec: 57\n",
            "epoch: 0  batch: 64 / 88  loss: 0.1184795067529194  hr: 0  min: 0  sec: 57\n",
            "epoch: 0  batch: 65 / 88  loss: 0.11722183749079704  hr: 0  min: 0  sec: 57\n",
            "epoch: 0  batch: 66 / 88  loss: 0.11651849887813583  hr: 0  min: 0  sec: 57\n",
            "epoch: 0  batch: 67 / 88  loss: 0.11578885916231284  hr: 0  min: 0  sec: 56\n",
            "epoch: 0  batch: 68 / 88  loss: 0.11500549738240592  hr: 0  min: 0  sec: 56\n",
            "epoch: 0  batch: 69 / 88  loss: 0.11478106251013452  hr: 0  min: 0  sec: 55\n",
            "epoch: 0  batch: 70 / 88  loss: 0.1137394809297153  hr: 0  min: 0  sec: 56\n",
            "epoch: 0  batch: 71 / 88  loss: 0.11285265571844409  hr: 0  min: 0  sec: 55\n",
            "epoch: 0  batch: 72 / 88  loss: 0.1123504189050032  hr: 0  min: 0  sec: 55\n",
            "epoch: 0  batch: 73 / 88  loss: 0.11168292476093933  hr: 0  min: 0  sec: 55\n",
            "epoch: 0  batch: 74 / 88  loss: 0.11085921148391994  hr: 0  min: 0  sec: 54\n",
            "epoch: 0  batch: 75 / 88  loss: 0.11028796618183453  hr: 0  min: 0  sec: 54\n",
            "epoch: 0  batch: 76 / 88  loss: 0.10941284816516073  hr: 0  min: 0  sec: 54\n",
            "epoch: 0  batch: 77 / 88  loss: 0.10853727931132565  hr: 0  min: 0  sec: 54\n",
            "epoch: 0  batch: 78 / 88  loss: 0.10829804202493949  hr: 0  min: 0  sec: 54\n",
            "epoch: 0  batch: 79 / 88  loss: 0.10747155905524387  hr: 0  min: 0  sec: 53\n",
            "epoch: 0  batch: 80 / 88  loss: 0.10675767250359058  hr: 0  min: 0  sec: 53\n",
            "epoch: 0  batch: 81 / 88  loss: 0.1062689894511376  hr: 0  min: 0  sec: 53\n",
            "epoch: 0  batch: 82 / 88  loss: 0.10552967035370629  hr: 0  min: 0  sec: 53\n",
            "epoch: 0  batch: 83 / 88  loss: 0.10474238486354609  hr: 0  min: 0  sec: 53\n",
            "epoch: 0  batch: 84 / 88  loss: 0.10398005614323276  hr: 0  min: 0  sec: 53\n",
            "epoch: 0  batch: 85 / 88  loss: 0.10332935526967049  hr: 0  min: 0  sec: 52\n",
            "epoch: 0  batch: 86 / 88  loss: 0.10290210698406364  hr: 0  min: 0  sec: 52\n",
            "epoch: 0  batch: 87 / 88  loss: 0.10266967267654407  hr: 0  min: 0  sec: 52\n",
            "epoch: 0  batch: 88 / 88  loss: 0.10212385921146382  hr: 0  min: 0  sec: 51\n",
            "epoch: 1  batch: 1 / 88  loss: 0.03902292996644974  hr: 0  min: 0  sec: 57\n",
            "epoch: 1  batch: 2 / 88  loss: 0.034543367102742195  hr: 0  min: 0  sec: 58\n",
            "epoch: 1  batch: 3 / 88  loss: 0.03199986803034941  hr: 0  min: 1  sec: 2\n",
            "epoch: 1  batch: 4 / 88  loss: 0.03467185562476516  hr: 0  min: 0  sec: 56\n",
            "epoch: 1  batch: 5 / 88  loss: 0.03746888674795627  hr: 0  min: 0  sec: 52\n",
            "epoch: 1  batch: 6 / 88  loss: 0.038196880680819355  hr: 0  min: 0  sec: 50\n",
            "epoch: 1  batch: 7 / 88  loss: 0.03914614261261055  hr: 0  min: 0  sec: 49\n",
            "epoch: 1  batch: 8 / 88  loss: 0.03815822210162878  hr: 0  min: 0  sec: 52\n",
            "epoch: 1  batch: 9 / 88  loss: 0.039519590636094414  hr: 0  min: 0  sec: 51\n",
            "epoch: 1  batch: 10 / 88  loss: 0.039986283704638484  hr: 0  min: 0  sec: 50\n",
            "epoch: 1  batch: 11 / 88  loss: 0.04026851566000418  hr: 0  min: 0  sec: 49\n",
            "epoch: 1  batch: 12 / 88  loss: 0.039119830975929894  hr: 0  min: 0  sec: 48\n",
            "epoch: 1  batch: 13 / 88  loss: 0.0376465620043186  hr: 0  min: 0  sec: 50\n",
            "epoch: 1  batch: 14 / 88  loss: 0.037603648246398995  hr: 0  min: 0  sec: 50\n",
            "epoch: 1  batch: 15 / 88  loss: 0.0383708664526542  hr: 0  min: 0  sec: 50\n",
            "epoch: 1  batch: 16 / 88  loss: 0.04042487440165132  hr: 0  min: 0  sec: 48\n",
            "epoch: 1  batch: 17 / 88  loss: 0.040040861267377346  hr: 0  min: 0  sec: 49\n",
            "epoch: 1  batch: 18 / 88  loss: 0.04032128045542373  hr: 0  min: 0  sec: 49\n",
            "epoch: 1  batch: 19 / 88  loss: 0.039771431664887225  hr: 0  min: 0  sec: 48\n",
            "epoch: 1  batch: 20 / 88  loss: 0.039405515510588886  hr: 0  min: 0  sec: 48\n",
            "epoch: 1  batch: 21 / 88  loss: 0.03900840816398462  hr: 0  min: 0  sec: 48\n",
            "epoch: 1  batch: 22 / 88  loss: 0.038216538303955036  hr: 0  min: 0  sec: 48\n",
            "epoch: 1  batch: 23 / 88  loss: 0.038993462353296905  hr: 0  min: 0  sec: 47\n",
            "epoch: 1  batch: 24 / 88  loss: 0.03931253597450753  hr: 0  min: 0  sec: 46\n",
            "epoch: 1  batch: 25 / 88  loss: 0.03963251151144505  hr: 0  min: 0  sec: 45\n",
            "epoch: 1  batch: 26 / 88  loss: 0.04012775901131905  hr: 0  min: 0  sec: 44\n",
            "epoch: 1  batch: 27 / 88  loss: 0.040519735810381395  hr: 0  min: 0  sec: 43\n",
            "epoch: 1  batch: 28 / 88  loss: 0.040124741316373856  hr: 0  min: 0  sec: 43\n",
            "epoch: 1  batch: 29 / 88  loss: 0.04009042930757177  hr: 0  min: 0  sec: 43\n",
            "epoch: 1  batch: 30 / 88  loss: 0.04011278506368399  hr: 0  min: 0  sec: 43\n",
            "epoch: 1  batch: 31 / 88  loss: 0.039588020633785956  hr: 0  min: 0  sec: 42\n",
            "epoch: 1  batch: 32 / 88  loss: 0.040071205294225365  hr: 0  min: 0  sec: 42\n",
            "epoch: 1  batch: 33 / 88  loss: 0.04005247653659546  hr: 0  min: 0  sec: 41\n",
            "epoch: 1  batch: 34 / 88  loss: 0.03960984802859671  hr: 0  min: 0  sec: 41\n",
            "epoch: 1  batch: 35 / 88  loss: 0.03984627542751176  hr: 0  min: 0  sec: 40\n",
            "epoch: 1  batch: 36 / 88  loss: 0.039534187823947936  hr: 0  min: 0  sec: 40\n",
            "epoch: 1  batch: 37 / 88  loss: 0.03942057132922314  hr: 0  min: 0  sec: 40\n",
            "epoch: 1  batch: 38 / 88  loss: 0.04020286434771199  hr: 0  min: 0  sec: 40\n",
            "epoch: 1  batch: 39 / 88  loss: 0.040377514818922065  hr: 0  min: 0  sec: 39\n",
            "epoch: 1  batch: 40 / 88  loss: 0.04027327406220138  hr: 0  min: 0  sec: 39\n",
            "epoch: 1  batch: 41 / 88  loss: 0.0402848991769843  hr: 0  min: 0  sec: 39\n",
            "epoch: 1  batch: 42 / 88  loss: 0.0402259576090035  hr: 0  min: 0  sec: 38\n",
            "epoch: 1  batch: 43 / 88  loss: 0.040097652609611664  hr: 0  min: 0  sec: 38\n",
            "epoch: 1  batch: 44 / 88  loss: 0.03971026660027829  hr: 0  min: 0  sec: 38\n",
            "epoch: 1  batch: 45 / 88  loss: 0.03976267427206039  hr: 0  min: 0  sec: 38\n",
            "epoch: 1  batch: 46 / 88  loss: 0.03940245650870645  hr: 0  min: 0  sec: 38\n",
            "epoch: 1  batch: 47 / 88  loss: 0.03933697966660591  hr: 0  min: 0  sec: 38\n",
            "epoch: 1  batch: 48 / 88  loss: 0.03897925811664512  hr: 0  min: 0  sec: 37\n",
            "epoch: 1  batch: 49 / 88  loss: 0.03863333872690493  hr: 0  min: 0  sec: 37\n",
            "epoch: 1  batch: 50 / 88  loss: 0.03851145453751087  hr: 0  min: 0  sec: 37\n",
            "epoch: 1  batch: 51 / 88  loss: 0.03837736725222831  hr: 0  min: 0  sec: 36\n",
            "epoch: 1  batch: 52 / 88  loss: 0.038266306169904195  hr: 0  min: 0  sec: 36\n",
            "epoch: 1  batch: 53 / 88  loss: 0.03831548588174694  hr: 0  min: 0  sec: 35\n",
            "epoch: 1  batch: 54 / 88  loss: 0.03830382910867532  hr: 0  min: 0  sec: 35\n",
            "epoch: 1  batch: 55 / 88  loss: 0.038014725053852255  hr: 0  min: 0  sec: 35\n",
            "epoch: 1  batch: 56 / 88  loss: 0.03783530429271715  hr: 0  min: 0  sec: 34\n",
            "epoch: 1  batch: 57 / 88  loss: 0.03775478631519435  hr: 0  min: 0  sec: 34\n",
            "epoch: 1  batch: 58 / 88  loss: 0.03781274320750401  hr: 0  min: 0  sec: 34\n",
            "epoch: 1  batch: 59 / 88  loss: 0.03801250476705826  hr: 0  min: 0  sec: 33\n",
            "epoch: 1  batch: 60 / 88  loss: 0.03811787764231364  hr: 0  min: 0  sec: 33\n",
            "epoch: 1  batch: 61 / 88  loss: 0.03832172718448717  hr: 0  min: 0  sec: 32\n",
            "epoch: 1  batch: 62 / 88  loss: 0.038073534927060525  hr: 0  min: 0  sec: 32\n",
            "epoch: 1  batch: 63 / 88  loss: 0.038002145373158984  hr: 0  min: 0  sec: 32\n",
            "epoch: 1  batch: 64 / 88  loss: 0.0380416753469035  hr: 0  min: 0  sec: 32\n",
            "epoch: 1  batch: 65 / 88  loss: 0.03808769234097921  hr: 0  min: 0  sec: 31\n",
            "epoch: 1  batch: 66 / 88  loss: 0.03784078178983746  hr: 0  min: 0  sec: 31\n",
            "epoch: 1  batch: 67 / 88  loss: 0.03755573672589971  hr: 0  min: 0  sec: 31\n",
            "epoch: 1  batch: 68 / 88  loss: 0.03765634463771301  hr: 0  min: 0  sec: 31\n",
            "epoch: 1  batch: 69 / 88  loss: 0.037551439569696136  hr: 0  min: 0  sec: 30\n",
            "epoch: 1  batch: 70 / 88  loss: 0.037274257306541714  hr: 0  min: 0  sec: 30\n",
            "epoch: 1  batch: 71 / 88  loss: 0.03707523229466358  hr: 0  min: 0  sec: 30\n",
            "epoch: 1  batch: 72 / 88  loss: 0.03680818755593565  hr: 0  min: 0  sec: 30\n",
            "epoch: 1  batch: 73 / 88  loss: 0.03707187234947126  hr: 0  min: 0  sec: 30\n",
            "epoch: 1  batch: 74 / 88  loss: 0.036982922210685304  hr: 0  min: 0  sec: 29\n",
            "epoch: 1  batch: 75 / 88  loss: 0.03728859268128872  hr: 0  min: 0  sec: 29\n",
            "epoch: 1  batch: 76 / 88  loss: 0.037160885373228474  hr: 0  min: 0  sec: 29\n",
            "epoch: 1  batch: 77 / 88  loss: 0.036938882952967246  hr: 0  min: 0  sec: 28\n",
            "epoch: 1  batch: 78 / 88  loss: 0.0370139271641771  hr: 0  min: 0  sec: 28\n",
            "epoch: 1  batch: 79 / 88  loss: 0.03708542494362668  hr: 0  min: 0  sec: 28\n",
            "epoch: 1  batch: 80 / 88  loss: 0.03723906001541764  hr: 0  min: 0  sec: 27\n",
            "epoch: 1  batch: 81 / 88  loss: 0.037074070791771385  hr: 0  min: 0  sec: 27\n",
            "epoch: 1  batch: 82 / 88  loss: 0.03703664170532692  hr: 0  min: 0  sec: 27\n",
            "epoch: 1  batch: 83 / 88  loss: 0.037199960640036916  hr: 0  min: 0  sec: 26\n",
            "epoch: 1  batch: 84 / 88  loss: 0.03697830973015655  hr: 0  min: 0  sec: 26\n",
            "epoch: 1  batch: 85 / 88  loss: 0.03702794859076247  hr: 0  min: 0  sec: 26\n",
            "epoch: 1  batch: 86 / 88  loss: 0.0369921893877692  hr: 0  min: 0  sec: 25\n",
            "epoch: 1  batch: 87 / 88  loss: 0.03687011957939329  hr: 0  min: 0  sec: 25\n",
            "epoch: 1  batch: 88 / 88  loss: 0.036941067040474576  hr: 0  min: 0  sec: 25\n",
            "epoch: 2  batch: 1 / 88  loss: 0.02027222514152527  hr: 0  min: 0  sec: 40\n",
            "epoch: 2  batch: 2 / 88  loss: 0.01417586300522089  hr: 0  min: 0  sec: 40\n",
            "epoch: 2  batch: 3 / 88  loss: 0.017999321222305298  hr: 0  min: 0  sec: 31\n",
            "epoch: 2  batch: 4 / 88  loss: 0.016918714391067624  hr: 0  min: 0  sec: 29\n",
            "epoch: 2  batch: 5 / 88  loss: 0.016752553544938563  hr: 0  min: 0  sec: 26\n",
            "epoch: 2  batch: 6 / 88  loss: 0.016140459726254146  hr: 0  min: 0  sec: 25\n",
            "epoch: 2  batch: 7 / 88  loss: 0.015254219860902854  hr: 0  min: 0  sec: 26\n",
            "epoch: 2  batch: 8 / 88  loss: 0.015281697269529104  hr: 0  min: 0  sec: 25\n",
            "epoch: 2  batch: 9 / 88  loss: 0.014604769233200286  hr: 0  min: 0  sec: 24\n",
            "epoch: 2  batch: 10 / 88  loss: 0.01618733238428831  hr: 0  min: 0  sec: 23\n",
            "epoch: 2  batch: 11 / 88  loss: 0.016166979108344425  hr: 0  min: 0  sec: 22\n",
            "epoch: 2  batch: 12 / 88  loss: 0.015960154589265585  hr: 0  min: 0  sec: 21\n",
            "epoch: 2  batch: 13 / 88  loss: 0.015810984043547742  hr: 0  min: 0  sec: 22\n",
            "epoch: 2  batch: 14 / 88  loss: 0.01570318466318505  hr: 0  min: 0  sec: 22\n",
            "epoch: 2  batch: 15 / 88  loss: 0.015892545878887176  hr: 0  min: 0  sec: 21\n",
            "epoch: 2  batch: 16 / 88  loss: 0.015444402291905135  hr: 0  min: 0  sec: 21\n",
            "epoch: 2  batch: 17 / 88  loss: 0.01564488061429823  hr: 0  min: 0  sec: 20\n",
            "epoch: 2  batch: 18 / 88  loss: 0.015392936145265898  hr: 0  min: 0  sec: 20\n",
            "epoch: 2  batch: 19 / 88  loss: 0.01620796136558056  hr: 0  min: 0  sec: 19\n",
            "epoch: 2  batch: 20 / 88  loss: 0.016912660002708434  hr: 0  min: 0  sec: 19\n",
            "epoch: 2  batch: 21 / 88  loss: 0.01667973975695315  hr: 0  min: 0  sec: 19\n",
            "epoch: 2  batch: 22 / 88  loss: 0.016621149441396647  hr: 0  min: 0  sec: 18\n",
            "epoch: 2  batch: 23 / 88  loss: 0.016488316144956196  hr: 0  min: 0  sec: 18\n",
            "epoch: 2  batch: 24 / 88  loss: 0.016436217158722382  hr: 0  min: 0  sec: 18\n",
            "epoch: 2  batch: 25 / 88  loss: 0.016737534813582897  hr: 0  min: 0  sec: 18\n",
            "epoch: 2  batch: 26 / 88  loss: 0.0169158187121726  hr: 0  min: 0  sec: 17\n",
            "epoch: 2  batch: 27 / 88  loss: 0.016691901169165416  hr: 0  min: 0  sec: 17\n",
            "epoch: 2  batch: 28 / 88  loss: 0.016742395469918847  hr: 0  min: 0  sec: 17\n",
            "epoch: 2  batch: 29 / 88  loss: 0.01668169693057907  hr: 0  min: 0  sec: 16\n",
            "epoch: 2  batch: 30 / 88  loss: 0.016754718652615946  hr: 0  min: 0  sec: 16\n",
            "epoch: 2  batch: 31 / 88  loss: 0.016632420701846  hr: 0  min: 0  sec: 16\n",
            "epoch: 2  batch: 32 / 88  loss: 0.016515437193447724  hr: 0  min: 0  sec: 15\n",
            "epoch: 2  batch: 33 / 88  loss: 0.016350880688564343  hr: 0  min: 0  sec: 15\n",
            "epoch: 2  batch: 34 / 88  loss: 0.016533961656558162  hr: 0  min: 0  sec: 15\n",
            "epoch: 2  batch: 35 / 88  loss: 0.016636123641261033  hr: 0  min: 0  sec: 14\n",
            "epoch: 2  batch: 36 / 88  loss: 0.016623237972251244  hr: 0  min: 0  sec: 14\n",
            "epoch: 2  batch: 37 / 88  loss: 0.01673515611705748  hr: 0  min: 0  sec: 14\n",
            "epoch: 2  batch: 38 / 88  loss: 0.016723218839615583  hr: 0  min: 0  sec: 13\n",
            "epoch: 2  batch: 39 / 88  loss: 0.016870669423578642  hr: 0  min: 0  sec: 13\n",
            "epoch: 2  batch: 40 / 88  loss: 0.016824896028265358  hr: 0  min: 0  sec: 13\n",
            "epoch: 2  batch: 41 / 88  loss: 0.016577884214135204  hr: 0  min: 0  sec: 13\n",
            "epoch: 2  batch: 42 / 88  loss: 0.016445215458848646  hr: 0  min: 0  sec: 12\n",
            "epoch: 2  batch: 43 / 88  loss: 0.016413346149547155  hr: 0  min: 0  sec: 12\n",
            "epoch: 2  batch: 44 / 88  loss: 0.016517242332073776  hr: 0  min: 0  sec: 12\n",
            "epoch: 2  batch: 45 / 88  loss: 0.016684469622042446  hr: 0  min: 0  sec: 12\n",
            "epoch: 2  batch: 46 / 88  loss: 0.016548460430425148  hr: 0  min: 0  sec: 11\n",
            "epoch: 2  batch: 47 / 88  loss: 0.016479213345558085  hr: 0  min: 0  sec: 11\n",
            "epoch: 2  batch: 48 / 88  loss: 0.01637137826764956  hr: 0  min: 0  sec: 11\n",
            "epoch: 2  batch: 49 / 88  loss: 0.01638923165369399  hr: 0  min: 0  sec: 10\n",
            "epoch: 2  batch: 50 / 88  loss: 0.016335388254374264  hr: 0  min: 0  sec: 10\n",
            "epoch: 2  batch: 51 / 88  loss: 0.016559929513902057  hr: 0  min: 0  sec: 10\n",
            "epoch: 2  batch: 52 / 88  loss: 0.016803092126233075  hr: 0  min: 0  sec: 9\n",
            "epoch: 2  batch: 53 / 88  loss: 0.016971079298769527  hr: 0  min: 0  sec: 9\n",
            "epoch: 2  batch: 54 / 88  loss: 0.01711372512013272  hr: 0  min: 0  sec: 9\n",
            "epoch: 2  batch: 55 / 88  loss: 0.017150769975375044  hr: 0  min: 0  sec: 9\n",
            "epoch: 2  batch: 56 / 88  loss: 0.017054932707521533  hr: 0  min: 0  sec: 8\n",
            "epoch: 2  batch: 57 / 88  loss: 0.017007451537146903  hr: 0  min: 0  sec: 8\n",
            "epoch: 2  batch: 58 / 88  loss: 0.017166091193412912  hr: 0  min: 0  sec: 8\n",
            "epoch: 2  batch: 59 / 88  loss: 0.017277776121588078  hr: 0  min: 0  sec: 8\n",
            "epoch: 2  batch: 60 / 88  loss: 0.017284490043918292  hr: 0  min: 0  sec: 7\n",
            "epoch: 2  batch: 61 / 88  loss: 0.017270429762171916  hr: 0  min: 0  sec: 7\n",
            "epoch: 2  batch: 62 / 88  loss: 0.017117627212897904  hr: 0  min: 0  sec: 7\n",
            "epoch: 2  batch: 63 / 88  loss: 0.017099100098546063  hr: 0  min: 0  sec: 6\n",
            "epoch: 2  batch: 64 / 88  loss: 0.01701499007322127  hr: 0  min: 0  sec: 6\n",
            "epoch: 2  batch: 65 / 88  loss: 0.0169861412463853  hr: 0  min: 0  sec: 6\n",
            "epoch: 2  batch: 66 / 88  loss: 0.016935964291350858  hr: 0  min: 0  sec: 6\n",
            "epoch: 2  batch: 67 / 88  loss: 0.016834969667078398  hr: 0  min: 0  sec: 5\n",
            "epoch: 2  batch: 68 / 88  loss: 0.016847150064730906  hr: 0  min: 0  sec: 5\n",
            "epoch: 2  batch: 69 / 88  loss: 0.017057030144539  hr: 0  min: 0  sec: 5\n",
            "epoch: 2  batch: 70 / 88  loss: 0.017046378918790392  hr: 0  min: 0  sec: 5\n",
            "epoch: 2  batch: 71 / 88  loss: 0.017069963836701403  hr: 0  min: 0  sec: 4\n",
            "epoch: 2  batch: 72 / 88  loss: 0.017082167575911928  hr: 0  min: 0  sec: 4\n",
            "epoch: 2  batch: 73 / 88  loss: 0.016992515138005964  hr: 0  min: 0  sec: 4\n",
            "epoch: 2  batch: 74 / 88  loss: 0.016984998984765763  hr: 0  min: 0  sec: 3\n",
            "epoch: 2  batch: 75 / 88  loss: 0.016980049517005682  hr: 0  min: 0  sec: 3\n",
            "epoch: 2  batch: 76 / 88  loss: 0.016908476858301776  hr: 0  min: 0  sec: 3\n",
            "epoch: 2  batch: 77 / 88  loss: 0.017024400408149926  hr: 0  min: 0  sec: 3\n",
            "epoch: 2  batch: 78 / 88  loss: 0.017038621718828112  hr: 0  min: 0  sec: 2\n",
            "epoch: 2  batch: 79 / 88  loss: 0.01704455824285934  hr: 0  min: 0  sec: 2\n",
            "epoch: 2  batch: 80 / 88  loss: 0.016983456729212774  hr: 0  min: 0  sec: 2\n",
            "epoch: 2  batch: 81 / 88  loss: 0.016931395937493186  hr: 0  min: 0  sec: 1\n",
            "epoch: 2  batch: 82 / 88  loss: 0.016990395609243977  hr: 0  min: 0  sec: 1\n",
            "epoch: 2  batch: 83 / 88  loss: 0.016978781204670668  hr: 0  min: 0  sec: 1\n",
            "epoch: 2  batch: 84 / 88  loss: 0.01713123476864504  hr: 0  min: 0  sec: 1\n",
            "epoch: 2  batch: 85 / 88  loss: 0.017170337132890436  hr: 0  min: 0  sec: 0\n",
            "epoch: 2  batch: 86 / 88  loss: 0.017381756875100872  hr: 0  min: 0  sec: 0\n",
            "epoch: 2  batch: 87 / 88  loss: 0.017292297461294924  hr: 0  min: 0  sec: 0\n",
            "epoch: 2  batch: 88 / 88  loss: 0.01741938630055467  hr: 0  min: 0  sec: 0\n",
            "CPU times: user 1min 8s, sys: 24.4 s, total: 1min 33s\n",
            "Wall time: 1min 33s\n"
          ]
        }
      ]
    },
    {
      "cell_type": "code",
      "source": [
        "def test_model_ATE(loader):\n",
        "    pred = []\n",
        "    trueth = []\n",
        "    with torch.no_grad():\n",
        "        for data in loader:\n",
        "\n",
        "            ids_tensors, tags_tensors, masks_tensors = data\n",
        "            ids_tensors = ids_tensors.to(DEVICE)\n",
        "            tags_tensors = tags_tensors.to(DEVICE)\n",
        "            masks_tensors = masks_tensors.to(DEVICE)\n",
        "\n",
        "            outputs = model_ATE(ids_tensors=ids_tensors, tags_tensors=None, masks_tensors=masks_tensors)\n",
        "            # print(\" outputs \",outputs)\n",
        "            _, predictions = torch.max(outputs, dim=2)\n",
        "            #print(\" predictions \", predictions)\n",
        "            pred += list([int(j) for i in predictions for j in i ])\n",
        "            # print(\" pred \", pred)\n",
        "            # print(\" tags_tensors \", tags_tensors)\n",
        "            trueth += list([int(j) for i in tags_tensors for j in i ])\n",
        "            # print(\" trueth \", trueth)\n",
        "    return trueth, pred\n",
        "\n",
        "x, y = test_model_ATE(test_loader)\n",
        "print(classification_report(x, y, target_names=[str(i) for i in range(2)]))\n"
      ],
      "metadata": {
        "id": "09_vKVTPxuxh",
        "colab": {
          "base_uri": "https://localhost:8080/"
        },
        "outputId": "4a3e88df-edc3-482e-86cc-b556b297fec9"
      },
      "id": "09_vKVTPxuxh",
      "execution_count": null,
      "outputs": [
        {
          "output_type": "stream",
          "name": "stdout",
          "text": [
            "              precision    recall  f1-score   support\n",
            "\n",
            "           0       0.99      0.99      0.99     61122\n",
            "           1       0.85      0.84      0.84      2148\n",
            "\n",
            "    accuracy                           0.99     63270\n",
            "   macro avg       0.92      0.92      0.92     63270\n",
            "weighted avg       0.99      0.99      0.99     63270\n",
            "\n"
          ]
        }
      ]
    },
    {
      "cell_type": "markdown",
      "source": [
        "The results achieved by using BERT are significant compared to those by the two previous approaches. Look at Class 1, the Recall, Precision and F1-Score are 84%, 85% and 84%, respectively."
      ],
      "metadata": {
        "id": "Z1y5BguhdPGQ"
      },
      "id": "Z1y5BguhdPGQ"
    }
  ],
  "metadata": {
    "colab": {
      "collapsed_sections": [],
      "name": "ABSA_ATE.ipynb",
      "provenance": []
    },
    "gpuClass": "standard",
    "kernelspec": {
      "display_name": "Python 3 (ipykernel)",
      "language": "python",
      "name": "python3"
    },
    "language_info": {
      "codemirror_mode": {
        "name": "ipython",
        "version": 3
      },
      "file_extension": ".py",
      "mimetype": "text/x-python",
      "name": "python",
      "nbconvert_exporter": "python",
      "pygments_lexer": "ipython3",
      "version": "3.9.7"
    }
  },
  "nbformat": 4,
  "nbformat_minor": 5
}